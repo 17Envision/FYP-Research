{
 "cells": [
  {
   "cell_type": "code",
   "execution_count": 25,
   "id": "b93b8ce1-9ccb-43ce-8fa8-a063323225ff",
   "metadata": {},
   "outputs": [],
   "source": [
    "from langid.langid import LanguageIdentifier, model\n",
    "import pandas as pd\n",
    "from langdetect import detect\n",
    "import re"
   ]
  },
  {
   "cell_type": "code",
   "execution_count": 26,
   "id": "caf3cbce-91b6-4b7e-a5df-8dbf5609ead7",
   "metadata": {},
   "outputs": [
    {
     "data": {
      "text/plain": [
       "'D:\\\\UOM\\\\L4S1\\\\Research\\\\Implementation\\\\FYP-Research\\\\notebooks'"
      ]
     },
     "execution_count": 26,
     "metadata": {},
     "output_type": "execute_result"
    }
   ],
   "source": [
    "pwd"
   ]
  },
  {
   "cell_type": "code",
   "execution_count": 27,
   "id": "8d5cab92-154a-4c91-9f30-03f18beaf15f",
   "metadata": {},
   "outputs": [
    {
     "name": "stdout",
     "output_type": "stream",
     "text": [
      "            Comment Id              User Id        Unique Id  \\\n",
      "0  7314765604681810706  6876105532748530693  20dark_hunter00   \n",
      "1  7314907545561907970  6982416764534309894        kavi___09   \n",
      "2  7314935455757484801  7187578911432705029    romeshjanaka7   \n",
      "3  7314731362967257857  6698376036462527493            u2me_   \n",
      "4  7314854241218118408  6854570108179678214    asunthapathum   \n",
      "\n",
      "           Nickname                                             Avatar  \\\n",
      "0       Dark Hunter  https://p16-sign-useast2a.tiktokcdn.com/tos-us...   \n",
      "1  Kavindu tharusha  https://p16-sign-sg.tiktokcdn.com/aweme/100x10...   \n",
      "2     romeshjanaka7  https://p16-sign-useast2a.tiktokcdn.com/tos-us...   \n",
      "3              U2me  https://p16-sign-va.tiktokcdn.com/musically-ma...   \n",
      "4    Asuntha Pathum  https://p16-sign-sg.tiktokcdn.com/aweme/100x10...   \n",
      "\n",
      "                                  User URL  Reply Comment Id  \\\n",
      "0  https://www.tiktok.com/@20dark_hunter00                 0   \n",
      "1        https://www.tiktok.com/@kavi___09                 0   \n",
      "2    https://www.tiktok.com/@romeshjanaka7                 0   \n",
      "3            https://www.tiktok.com/@u2me_                 0   \n",
      "4    https://www.tiktok.com/@asunthapathum                 0   \n",
      "\n",
      "                                             Comment  Digg Count  Reply Count  \\\n",
      "0  ඇයි display issues ගැන කතා කරන්නේ නැත්තේ S ser...          22         46.0   \n",
      "1                        Update කරාට පස්සේ ඉරි යයිද👀          16         12.0   \n",
      "2                              පත ලයින් එකක් ගියාම 😂          10          9.0   \n",
      "3                   😂 වැඩක් වෙන් නෑ බන් ගන්න වෙන් නෑ          28          2.0   \n",
      "4                                 gerrn line enwne 😂           5          4.0   \n",
      "\n",
      "   Is Author Digged  Author Pin Language          Create Time  \\\n",
      "0              True         0.0       si  2023-12-21 01:16:57   \n",
      "1              True         0.0       si  2023-12-21 10:27:32   \n",
      "2              True         0.0       si  2023-12-21 12:15:55   \n",
      "3              True         0.0       si  2023-12-20 23:03:58   \n",
      "4              True         0.0       en  2023-12-21 07:00:55   \n",
      "\n",
      "                                           Video URL             Video Id  \n",
      "0  https://www.tiktok.com/@tech_with_wicky/video/...  7314721689806376197  \n",
      "1  https://www.tiktok.com/@tech_with_wicky/video/...  7314721689806376197  \n",
      "2  https://www.tiktok.com/@tech_with_wicky/video/...  7314721689806376197  \n",
      "3  https://www.tiktok.com/@tech_with_wicky/video/...  7314721689806376197  \n",
      "4  https://www.tiktok.com/@tech_with_wicky/video/...  7314721689806376197  \n"
     ]
    }
   ],
   "source": [
    "import chardet\n",
    "\n",
    "# Detect encoding\n",
    "with open(\"../data/dataset.xlsx\", 'rb') as f:\n",
    "    result = chardet.detect(f.read())\n",
    "    encoding = result['encoding']\n",
    "\n",
    "# Read the file with the detected encoding\n",
    "df = pd.read_excel(\"../data/dataset.xlsx\")\n",
    "\n",
    "# Display the first few rows of the DataFrame\n",
    "print(df.head())"
   ]
  },
  {
   "cell_type": "code",
   "execution_count": 28,
   "id": "c24516b6-8ef3-431e-ae14-80bca511c5d1",
   "metadata": {},
   "outputs": [
    {
     "name": "stdout",
     "output_type": "stream",
     "text": [
      "                                              Comment Language\n",
      "0   ඇයි display issues ගැන කතා කරන්නේ නැත්තේ S ser...       si\n",
      "1                         Update කරාට පස්සේ ඉරි යයිද👀       si\n",
      "2                               පත ලයින් එකක් ගියාම 😂       si\n",
      "3                    😂 වැඩක් වෙන් නෑ බන් ගන්න වෙන් නෑ       si\n",
      "5                          ඇපල් වලටත් කෙලිය එහෙනම් 😂😂       si\n",
      "6                   අර වෙනස් කරලා කෝල් ගන්න එක සෙට් ඇ       si\n",
      "7                                   කියක් විතර වේවිද?       si\n",
      "11                            Samsumg තමා එදත් අදත්🖤🔥       si\n",
      "12                        pixel වලටත් Review එකක් ඕනෙ       si\n",
      "15                                  එහෙනම් එකක් ගමු 🙂       si\n",
      "16                                      සැම්සුන්ග් 🤍✨       si\n",
      "18          ටයිටේනියම් කන්නද කියපු සැම්සන් ෆෑන් ලා..😅       si\n",
      "19                         s23 eka මේ මාසෙ ගත්ත මම 🥺😓       si\n",
      "20                                              😂 ඉයා       si\n",
      "22                               හොදම එක ලෝකෙ දැන්නමූ       si\n",
      "23                    තාම m02 එකක් පාවිච්චි කරන මම 🙂👍       si\n",
      "24                  Mata ahuneme ඒ ඇයි kiyala ma😅😅😅😅😅       si\n",
      "25  Apple වල ටයිටේනියම් වලට බැන බැන හිටපු උන් ටයිට...       si\n",
      "26  ලංකාවේ අපිට මොකක් ආවත් ගන්න වෙන්නෑ 25000ට ආපු ...       si\n",
      "29  @Nirosh Madushan ටෙලිස්කොප් එකක් එන්නැලු බන් 1...       si\n",
      "45                       පලතුරු වලට වඩා නම් හොදයි 💀✌️       si\n",
      "47  s23 294 dan $$ 257 වැඩ සපිරි ipone කැලේ එතරන් ...       si\n",
      "48  බොරුවට green line ගැන කතා කරන්න එපා හැම එකටම එ...       si\n",
      "49  green line😂\\nටයිටේනියම් වලට බැන්න උන් මහින්ද එ...       si\n",
      "50                              ඇපල් කොහෙද හුත්තෝ හොඳ       si\n",
      "53  රැල්ලට නම් නෙමේ හැබැයි අවුරුදු 3 4 k උනත් spee...       si\n",
      "54  මම apple samsung වල flagship phone පාවිච්චි කර...       si\n",
      "64  green line විතරයි නේ. iphone වගේ මුළු screen එ...       si\n",
      "69                         තාම නෑ තව අවුරුද්දකින් එයි       si\n",
      "91  ane hutta තමයි අවුරුදු ganak s serios use කරන්...       si\n",
      "92  මාත් දැන් අවුරුදු ගානක් තිස්සේ Samsung යුස් කර...       si\n",
      "93  එන්න කලිම් තෝ කොහොමද බං කියන්නේ 😂💔 ආවම කියපන් ...       si\n",
      "96                                 අපිටත් එන්න එපැ ?💀       si\n",
      "97  wadak na කියලා . chaina use karana un ge padi ...       si\n",
      "98  කෝ බන් ඉතින් ආවෙ නෑනෙ. S9 එකකුත් තියේ තාම ඉරක්...       si\n"
     ]
    }
   ],
   "source": [
    "import langid\n",
    "import pandas as pd\n",
    "\n",
    "# Assuming you have a DataFrame named 'df' with a 'Comment' column\n",
    "# ...\n",
    "\n",
    "# Function to identify the language of a comment\n",
    "def identify_language(comment):\n",
    "    lang, _ = langid.classify(comment)\n",
    "    return lang\n",
    "\n",
    "# Apply the language identification function to the \"Comment\" column\n",
    "df['Language'] = df['Comment'].apply(identify_language)\n",
    "\n",
    "# Filter only Sinhala comments\n",
    "sinhala_comments_df = df[df['Language'] == 'si']\n",
    "\n",
    "# Display the Sinhala comments DataFrame\n",
    "print(sinhala_comments_df[['Comment', 'Language']])\n"
   ]
  },
  {
   "cell_type": "code",
   "execution_count": 29,
   "id": "715e87f9-4908-4abe-b499-bdcb5f1a1410",
   "metadata": {},
   "outputs": [
    {
     "name": "stdout",
     "output_type": "stream",
     "text": [
      "Requirement already satisfied: langdetect in d:\\uom\\l4s1\\research\\implementation\\fyp-research\\env\\lib\\site-packages (1.0.9)\n",
      "Requirement already satisfied: six in d:\\uom\\l4s1\\research\\implementation\\fyp-research\\env\\lib\\site-packages (from langdetect) (1.16.0)\n",
      "Note: you may need to restart the kernel to use updated packages.\n"
     ]
    }
   ],
   "source": [
    "%pip install langdetect\n"
   ]
  },
  {
   "cell_type": "code",
   "execution_count": null,
   "id": "f1cd34ee-f143-43ea-b8d4-5568a744de65",
   "metadata": {},
   "outputs": [],
   "source": [
    "!pip install translate"
   ]
  },
  {
   "cell_type": "code",
   "execution_count": null,
   "id": "97e15928-ead7-448b-b84d-ed1e1c3e4754",
   "metadata": {},
   "outputs": [],
   "source": [
    "\n",
    "def remove_english_words(column):\n",
    "    # Define a regular expression pattern to match English words\n",
    "    english_word_pattern = re.compile(r'\\b[a-zA-Z]+\\b')\n",
    "\n",
    "    # Use sub() to replace matched English words with an empty string\n",
    "    cleaned_column = column.apply(lambda x: re.sub(english_word_pattern, '', x))\n",
    "\n",
    "    return cleaned_column\n",
    "\n",
    "# Example usage\n",
    "# Assuming you have a DataFrame named 'sinhala_comments_df'\n",
    "# sinhala_comments_df[['Comment', 'Language']] will give you the desired columns\n",
    "columns_to_clean = sinhala_comments_df[['Comment', 'Language']]\n",
    "cleaned_columns = columns_to_clean.apply(remove_english_words)\n",
    "\n",
    "# Display the original and cleaned columns\n",
    "print(\"\\nCleaned Columns:\")\n",
    "print(cleaned_columns)\n"
   ]
  },
  {
   "cell_type": "code",
   "execution_count": null,
   "id": "a447e598-e783-42e0-b34d-8b90f4b39e10",
   "metadata": {},
   "outputs": [],
   "source": []
  }
 ],
 "metadata": {
  "kernelspec": {
   "display_name": "Python 3 (ipykernel)",
   "language": "python",
   "name": "python3"
  },
  "language_info": {
   "codemirror_mode": {
    "name": "ipython",
    "version": 3
   },
   "file_extension": ".py",
   "mimetype": "text/x-python",
   "name": "python",
   "nbconvert_exporter": "python",
   "pygments_lexer": "ipython3",
   "version": "3.11.5"
  }
 },
 "nbformat": 4,
 "nbformat_minor": 5
}
