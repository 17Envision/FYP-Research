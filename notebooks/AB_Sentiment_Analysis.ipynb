{
 "cells": [
  {
   "cell_type": "code",
   "execution_count": 14,
   "id": "b93b8ce1-9ccb-43ce-8fa8-a063323225ff",
   "metadata": {},
   "outputs": [
    {
     "name": "stdout",
     "output_type": "stream",
     "text": [
      "Collecting openpyxl\n",
      "  Downloading openpyxl-3.1.2-py2.py3-none-any.whl (249 kB)\n",
      "     ---------------------------------------- 0.0/250.0 kB ? eta -:--:--\n",
      "     ---------------------------------------- 0.0/250.0 kB ? eta -:--:--\n",
      "     - -------------------------------------- 10.2/250.0 kB ? eta -:--:--\n",
      "     - -------------------------------------- 10.2/250.0 kB ? eta -:--:--\n",
      "     - -------------------------------------- 10.2/250.0 kB ? eta -:--:--\n",
      "     - -------------------------------------- 10.2/250.0 kB ? eta -:--:--\n",
      "     - -------------------------------------- 10.2/250.0 kB ? eta -:--:--\n",
      "     - -------------------------------------- 10.2/250.0 kB ? eta -:--:--\n",
      "     ------ ------------------------------- 41.0/250.0 kB 98.1 kB/s eta 0:00:03\n",
      "     ------ ------------------------------- 41.0/250.0 kB 98.1 kB/s eta 0:00:03\n",
      "     ------ ------------------------------- 41.0/250.0 kB 98.1 kB/s eta 0:00:03\n",
      "     --------- --------------------------- 61.4/250.0 kB 121.3 kB/s eta 0:00:02\n",
      "     ------------ ------------------------ 81.9/250.0 kB 147.8 kB/s eta 0:00:02\n",
      "     ------------ ------------------------ 81.9/250.0 kB 147.8 kB/s eta 0:00:02\n",
      "     ------------ ------------------------ 81.9/250.0 kB 147.8 kB/s eta 0:00:02\n",
      "     ------------ ------------------------ 81.9/250.0 kB 147.8 kB/s eta 0:00:02\n",
      "     ------------ ------------------------ 81.9/250.0 kB 147.8 kB/s eta 0:00:02\n",
      "     ------------- ----------------------- 92.2/250.0 kB 116.4 kB/s eta 0:00:02\n",
      "     ---------------- ------------------- 112.6/250.0 kB 136.5 kB/s eta 0:00:02\n",
      "     ----------------- ------------------ 122.9/250.0 kB 141.3 kB/s eta 0:00:01\n",
      "     ----------------------- ------------ 163.8/250.0 kB 175.5 kB/s eta 0:00:01\n",
      "     ------------------------- ---------- 174.1/250.0 kB 183.9 kB/s eta 0:00:01\n",
      "     ---------------------------- ------- 194.6/250.0 kB 196.5 kB/s eta 0:00:01\n",
      "     ----------------------------- ------ 204.8/250.0 kB 200.8 kB/s eta 0:00:01\n",
      "     ----------------------------- ------ 204.8/250.0 kB 200.8 kB/s eta 0:00:01\n",
      "     ----------------------------- ------ 204.8/250.0 kB 200.8 kB/s eta 0:00:01\n",
      "     -------------------------------- --- 225.3/250.0 kB 191.1 kB/s eta 0:00:01\n",
      "     -----------------------------------  245.8/250.0 kB 201.0 kB/s eta 0:00:01\n",
      "     ------------------------------------ 250.0/250.0 kB 194.1 kB/s eta 0:00:00\n",
      "Collecting et-xmlfile (from openpyxl)\n",
      "  Downloading et_xmlfile-1.1.0-py3-none-any.whl (4.7 kB)\n",
      "Installing collected packages: et-xmlfile, openpyxl\n",
      "Successfully installed et-xmlfile-1.1.0 openpyxl-3.1.2\n"
     ]
    }
   ],
   "source": [
    "!pip install openpyxl\n",
    "import pandas as pd"
   ]
  },
  {
   "cell_type": "code",
   "execution_count": 6,
   "id": "caf3cbce-91b6-4b7e-a5df-8dbf5609ead7",
   "metadata": {},
   "outputs": [
    {
     "data": {
      "text/plain": [
       "'D:\\\\UOM\\\\L4S1\\\\Research\\\\Implementation\\\\FYP-Research\\\\notebooks'"
      ]
     },
     "execution_count": 6,
     "metadata": {},
     "output_type": "execute_result"
    }
   ],
   "source": [
    "pwd"
   ]
  },
  {
   "cell_type": "code",
   "execution_count": 15,
   "id": "8d5cab92-154a-4c91-9f30-03f18beaf15f",
   "metadata": {},
   "outputs": [
    {
     "name": "stdout",
     "output_type": "stream",
     "text": [
      "            Comment Id              User Id        Unique Id  \\\n",
      "0  7314765604681810706  6876105532748530693  20dark_hunter00   \n",
      "1  7314907545561907970  6982416764534309894        kavi___09   \n",
      "2  7314935455757484801  7187578911432705029    romeshjanaka7   \n",
      "3  7314731362967257857  6698376036462527493            u2me_   \n",
      "4  7314854241218118408  6854570108179678214    asunthapathum   \n",
      "\n",
      "           Nickname                                             Avatar  \\\n",
      "0       Dark Hunter  https://p16-sign-useast2a.tiktokcdn.com/tos-us...   \n",
      "1  Kavindu tharusha  https://p16-sign-sg.tiktokcdn.com/aweme/100x10...   \n",
      "2     romeshjanaka7  https://p16-sign-useast2a.tiktokcdn.com/tos-us...   \n",
      "3              U2me  https://p16-sign-va.tiktokcdn.com/musically-ma...   \n",
      "4    Asuntha Pathum  https://p16-sign-sg.tiktokcdn.com/aweme/100x10...   \n",
      "\n",
      "                                  User URL  Reply Comment Id  \\\n",
      "0  https://www.tiktok.com/@20dark_hunter00                 0   \n",
      "1        https://www.tiktok.com/@kavi___09                 0   \n",
      "2    https://www.tiktok.com/@romeshjanaka7                 0   \n",
      "3            https://www.tiktok.com/@u2me_                 0   \n",
      "4    https://www.tiktok.com/@asunthapathum                 0   \n",
      "\n",
      "                                             Comment  Digg Count  Reply Count  \\\n",
      "0  ඇයි display issues ගැන කතා කරන්නේ නැත්තේ S ser...          22         46.0   \n",
      "1                        Update කරාට පස්සේ ඉරි යයිද👀          16         12.0   \n",
      "2                              පත ලයින් එකක් ගියාම 😂          10          9.0   \n",
      "3                   😂 වැඩක් වෙන් නෑ බන් ගන්න වෙන් නෑ          28          2.0   \n",
      "4                                 gerrn line enwne 😂           5          4.0   \n",
      "\n",
      "   Is Author Digged  Author Pin Language          Create Time  \\\n",
      "0              True         0.0       si  2023-12-21 01:16:57   \n",
      "1              True         0.0       si  2023-12-21 10:27:32   \n",
      "2              True         0.0       si  2023-12-21 12:15:55   \n",
      "3              True         0.0       si  2023-12-20 23:03:58   \n",
      "4              True         0.0       en  2023-12-21 07:00:55   \n",
      "\n",
      "                                           Video URL             Video Id  \n",
      "0  https://www.tiktok.com/@tech_with_wicky/video/...  7314721689806376197  \n",
      "1  https://www.tiktok.com/@tech_with_wicky/video/...  7314721689806376197  \n",
      "2  https://www.tiktok.com/@tech_with_wicky/video/...  7314721689806376197  \n",
      "3  https://www.tiktok.com/@tech_with_wicky/video/...  7314721689806376197  \n",
      "4  https://www.tiktok.com/@tech_with_wicky/video/...  7314721689806376197  \n"
     ]
    }
   ],
   "source": [
    "import chardet\n",
    "\n",
    "# Detect encoding\n",
    "with open(\"../data/dataset.xlsx\", 'rb') as f:\n",
    "    result = chardet.detect(f.read())\n",
    "    encoding = result['encoding']\n",
    "\n",
    "# Read the file with the detected encoding\n",
    "df = pd.read_excel(\"../data/dataset.xlsx\")\n",
    "\n",
    "# Display the first few rows of the DataFrame\n",
    "print(df.head())"
   ]
  },
  {
   "cell_type": "code",
   "execution_count": null,
   "id": "c24516b6-8ef3-431e-ae14-80bca511c5d1",
   "metadata": {},
   "outputs": [],
   "source": []
  }
 ],
 "metadata": {
  "kernelspec": {
   "display_name": "Python 3 (ipykernel)",
   "language": "python",
   "name": "python3"
  },
  "language_info": {
   "codemirror_mode": {
    "name": "ipython",
    "version": 3
   },
   "file_extension": ".py",
   "mimetype": "text/x-python",
   "name": "python",
   "nbconvert_exporter": "python",
   "pygments_lexer": "ipython3",
   "version": "3.11.5"
  }
 },
 "nbformat": 4,
 "nbformat_minor": 5
}
