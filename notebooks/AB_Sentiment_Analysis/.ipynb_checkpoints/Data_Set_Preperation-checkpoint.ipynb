{
 "cells": [
  {
   "cell_type": "code",
   "execution_count": null,
   "metadata": {},
   "outputs": [],
   "source": [
    "import pandas as pd\n",
    "\n",
    "# Load the first Excel file into a DataFrame\n",
    "df1 = pd.read_excel('file1.xlsx')\n",
    "\n",
    "# Load the second Excel file into another DataFrame\n",
    "df2 = pd.read_excel('file2.xlsx')\n",
    "\n",
    "# Concatenate the two DataFrames along the rows (axis=0)\n",
    "merged_df = pd.concat([df1, df2], ignore_index=True)\n",
    "\n",
    "# Save the merged DataFrame to a new Excel file\n",
    "merged_df.to_excel('merged_file.xlsx', index=False)\n"
   ]
  }
 ],
 "metadata": {
  "language_info": {
   "name": "python"
  }
 },
 "nbformat": 4,
 "nbformat_minor": 2
}
