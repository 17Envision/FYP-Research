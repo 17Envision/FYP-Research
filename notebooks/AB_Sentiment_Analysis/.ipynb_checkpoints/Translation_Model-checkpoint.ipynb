{
 "cells": [
  {
   "cell_type": "code",
   "execution_count": 1,
   "metadata": {},
   "outputs": [
    {
     "name": "stdout",
     "output_type": "stream",
     "text": [
      "ඇයි ප්රදර්ශනය ගැටළු ගැන කතා කරන්නේ නැත්තේ S ser...\n"
     ]
    }
   ],
   "source": [
    "from googletrans import Translator\n",
    "import re\n",
    "\n",
    "def convert_to_sinhala(text):\n",
    "    # Translate English words to Sinhala\n",
    "    translator = Translator()\n",
    "    translated_text = translator.translate(text, dest='si').text\n",
    "\n",
    "    # Replace English words with Sinhala words using a dictionary\n",
    "    translation_dict = {\n",
    "        'display': 'ප්රදර්ශනය',\n",
    "        'issues': 'ගැටළු',\n",
    "        # Add more words as needed\n",
    "    }\n",
    "\n",
    "    # Use regular expression to replace English words with Sinhala words\n",
    "    for word, translation in translation_dict.items():\n",
    "        translated_text = re.sub(r'\\b' + re.escape(word) + r'\\b', translation, translated_text, flags=re.IGNORECASE)\n",
    "\n",
    "    return translated_text\n",
    "\n",
    "# Example usage\n",
    "sinhala_comment = \"ඇයි display issues ගැන කතා කරන්නේ නැත්තේ S ser...\"\n",
    "converted_comment = convert_to_sinhala(sinhala_comment)\n",
    "print(converted_comment)\n"
   ]
  },
  {
   "cell_type": "code",
   "execution_count": null,
   "metadata": {},
   "outputs": [],
   "source": []
  }
 ],
 "metadata": {
  "kernelspec": {
   "display_name": "Python 3 (ipykernel)",
   "language": "python",
   "name": "python3"
  },
  "language_info": {
   "codemirror_mode": {
    "name": "ipython",
    "version": 3
   },
   "file_extension": ".py",
   "mimetype": "text/x-python",
   "name": "python",
   "nbconvert_exporter": "python",
   "pygments_lexer": "ipython3",
   "version": "3.11.5"
  }
 },
 "nbformat": 4,
 "nbformat_minor": 4
}
