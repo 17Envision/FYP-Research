{
 "cells": [
  {
   "cell_type": "code",
   "execution_count": 3,
   "metadata": {},
   "outputs": [],
   "source": [
    "import pandas as pd\n",
    "\n",
    "# Load the first Excel file into a DataFrame\n",
    "df1 = pd.read_excel('../../data/dataset.xlsx')\n",
    "\n",
    "# Load the second Excel file into another DataFrame\n",
    "df2 = pd.read_excel('../../data/dataset2.xlsx')\n",
    "\n",
    "# Convert 'Comment Id' and 'User Id' columns to string in both DataFrames\n",
    "df1['Comment Id'] = df1['Comment Id'].astype(str)\n",
    "df1['User Id'] = df1['User Id'].astype(str)\n",
    "\n",
    "df2['Comment Id'] = df2['Comment Id'].astype(str)\n",
    "df2['User Id'] = df2['User Id'].astype(str)\n",
    "\n",
    "# Concatenate the two DataFrames along the rows (axis=0)\n",
    "merged_df = pd.concat([df1, df2], ignore_index=True)\n",
    "\n",
    "# Save the merged DataFrame to a new Excel file\n",
    "merged_df.to_excel('../../data/new_dataset.xlsx', index=False)\n"
   ]
  },
  {
   "cell_type": "code",
   "execution_count": null,
   "metadata": {},
   "outputs": [],
   "source": []
  }
 ],
 "metadata": {
  "kernelspec": {
   "display_name": "Python 3 (ipykernel)",
   "language": "python",
   "name": "python3"
  },
  "language_info": {
   "codemirror_mode": {
    "name": "ipython",
    "version": 3
   },
   "file_extension": ".py",
   "mimetype": "text/x-python",
   "name": "python",
   "nbconvert_exporter": "python",
   "pygments_lexer": "ipython3",
   "version": "3.11.5"
  }
 },
 "nbformat": 4,
 "nbformat_minor": 4
}
