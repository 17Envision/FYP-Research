{
 "cells": [
  {
   "cell_type": "code",
   "execution_count": 1,
   "metadata": {},
   "outputs": [
    {
     "name": "stdout",
     "output_type": "stream",
     "text": [
      "ඇයි ප්රදර්ශනය ගැටළු ගැන කතා කරන්නේ නැත්තේ S ser...\n"
     ]
    }
   ],
   "source": [
    "# from googletrans import Translator\n",
    "# import re\n",
    "\n",
    "# def convert_to_sinhala(text):\n",
    "#     # Translate English words to Sinhala\n",
    "#     translator = Translator()\n",
    "#     translated_text = translator.translate(text, dest='si').text\n",
    "\n",
    "#     # Replace English words with Sinhala words using a dictionary\n",
    "#     translation_dict = {\n",
    "#         'display': 'ප්රදර්ශනය',\n",
    "#         'issues': 'ගැටළු',\n",
    "#         # Add more words as needed\n",
    "#     }\n",
    "\n",
    "#     # Use regular expression to replace English words with Sinhala words\n",
    "#     for word, translation in translation_dict.items():\n",
    "#         translated_text = re.sub(r'\\b' + re.escape(word) + r'\\b', translation, translated_text, flags=re.IGNORECASE)\n",
    "\n",
    "#     return translated_text\n",
    "\n",
    "# # Example usage\n",
    "# sinhala_comment = \"ඇයි display issues ගැන කතා කරන්නේ නැත්තේ S ser...\"\n",
    "# converted_comment = convert_to_sinhala(sinhala_comment)\n",
    "# print(converted_comment)\n"
   ]
  },
  {
   "cell_type": "code",
   "execution_count": 2,
   "metadata": {},
   "outputs": [
    {
     "name": "stdout",
     "output_type": "stream",
     "text": [
      "                                              Comment Language\n",
      "0   ඇයි display issues ගැන කතා කරන්නේ නැත්තේ S ser...       si\n",
      "1                         Update කරාට පස්සේ ඉරි යයිද👀       si\n",
      "2                               පත ලයින් එකක් ගියාම 😂       si\n",
      "3                    😂 වැඩක් වෙන් නෑ බන් ගන්න වෙන් නෑ       si\n",
      "4                          ඇපල් වලටත් කෙලිය එහෙනම් 😂😂       si\n",
      "..                                                ...      ...\n",
      "85  රුමේනියා යනවනම් රොසෙල් ඒජන්සියෙන් යන්න. කිසි ද...       si\n",
      "86  ගෙදර නෙවෙයි.ලංකාව නෙවෙයි රට ජිවිතෙ කියන්නෙ,අනි...       si\n",
      "87  මමත් රුමේනියාවෙ තමයි ඉන්නෙ.මෙහේ සැප ගන්න බෑ.අප...       si\n",
      "88  මං ඇවිත් අවරුදු 7i මටනම් hodai ගාමන්ට් ඉන්නේ ආ...       si\n",
      "89  කවුරුත් මේවා කිවාට විශ්වාස කරන්නේ නැහැ දන් හැම...       si\n",
      "\n",
      "[90 rows x 2 columns]\n"
     ]
    }
   ],
   "source": [
    "import pandas as pd\n",
    "\n",
    "# Load the Sinhala comments DataFrame from the CSV file\n",
    "loaded_sinhala_comments_df = pd.read_csv('sinhala_comments.csv')\n",
    "\n",
    "# Display the loaded DataFrame\n",
    "print(loaded_sinhala_comments_df)\n"
   ]
  },
  {
   "cell_type": "code",
   "execution_count": 4,
   "metadata": {},
   "outputs": [
    {
     "name": "stdout",
     "output_type": "stream",
     "text": [
      "['thama', 'padi', 'me', 'issues', 'nam', 'lei', 'badaginne', 'hutta', 'un', 'kawruth', 'ahuneme', 'Skill', 'Boy', 'bari', 'bath', 'Save', 'pixel', 'display', 'Samsung', 'Ruchira', 'Mata', 'S', 'chaina', 'recommend', 'ehat', 'ai', 'Apple', 'ipone', 'Chamod', 'nama', 'samsung', 'A', 'ma', 'katat', 'k', 'line', 'Technical', 'Sagara', 'eka', 'kiyanna', 'iphone', 'enne', 'England', 'tv', 's', 'flagship', 'karana', 'wenas', 'green', 'ganan', 'High', 'wadak', 'Update', 'Samsumg', 'use', 'apple', 'serios', 'ane', 'screen', 'Dilshan', 'poddk', 'hil', 'phone', 'Madushan', 'eke', 'series', 'L', 'photo', 'na', 'weda', 'kiyala', 'hodai', 'speed', 'ge', 'ledak', 'wada', 'Review', 'ganak', 'dan', 'Nirosh']\n"
     ]
    }
   ],
   "source": [
    "import pandas as pd\n",
    "import re\n",
    "\n",
    "# Load the Sinhala comments DataFrame from the CSV file\n",
    "loaded_sinhala_comments_df = pd.read_csv('sinhala_comments.csv')\n",
    "\n",
    "# Define a regular expression pattern to match English words\n",
    "english_word_pattern = re.compile(r'\\b[a-zA-Z]+\\b')\n",
    "\n",
    "# Function to extract English words from a comment\n",
    "def extract_english_words(comment):\n",
    "    english_words = re.findall(english_word_pattern, comment)\n",
    "    return english_words\n",
    "\n",
    "# Apply the function to the 'Comment' column\n",
    "loaded_sinhala_comments_df['English_Words'] = loaded_sinhala_comments_df['Comment'].apply(extract_english_words)\n",
    "\n",
    "# Flatten the list of English words\n",
    "english_word_list = [word for sublist in loaded_sinhala_comments_df['English_Words'] for word in sublist]\n",
    "\n",
    "# Remove duplicates\n",
    "english_word_list = list(set(english_word_list))\n",
    "\n",
    "# Display the list of English words\n",
    "print(english_word_list)\n",
    "\n"
   ]
  },
  {
   "cell_type": "code",
   "execution_count": null,
   "metadata": {},
   "outputs": [],
   "source": []
  }
 ],
 "metadata": {
  "kernelspec": {
   "display_name": "Python 3 (ipykernel)",
   "language": "python",
   "name": "python3"
  },
  "language_info": {
   "codemirror_mode": {
    "name": "ipython",
    "version": 3
   },
   "file_extension": ".py",
   "mimetype": "text/x-python",
   "name": "python",
   "nbconvert_exporter": "python",
   "pygments_lexer": "ipython3",
   "version": "3.11.5"
  }
 },
 "nbformat": 4,
 "nbformat_minor": 4
}
