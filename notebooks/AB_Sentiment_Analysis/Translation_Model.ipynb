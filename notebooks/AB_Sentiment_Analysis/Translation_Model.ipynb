{
 "cells": [
  {
   "cell_type": "code",
   "execution_count": 1,
   "metadata": {},
   "outputs": [
    {
     "name": "stdout",
     "output_type": "stream",
     "text": [
      "ඇයි ප්රදර්ශනය ගැටළු ගැන කතා කරන්නේ නැත්තේ S ser...\n"
     ]
    }
   ],
   "source": [
    "\n"
   ]
  },
  {
   "cell_type": "code",
   "execution_count": 2,
   "metadata": {},
   "outputs": [
    {
     "name": "stdout",
     "output_type": "stream",
     "text": [
      "                                              Comment Language\n",
      "0   ඇයි display issues ගැන කතා කරන්නේ නැත්තේ S ser...       si\n",
      "1                         Update කරාට පස්සේ ඉරි යයිද👀       si\n",
      "2                               පත ලයින් එකක් ගියාම 😂       si\n",
      "3                    😂 වැඩක් වෙන් නෑ බන් ගන්න වෙන් නෑ       si\n",
      "4                          ඇපල් වලටත් කෙලිය එහෙනම් 😂😂       si\n",
      "..                                                ...      ...\n",
      "85  රුමේනියා යනවනම් රොසෙල් ඒජන්සියෙන් යන්න. කිසි ද...       si\n",
      "86  ගෙදර නෙවෙයි.ලංකාව නෙවෙයි රට ජිවිතෙ කියන්නෙ,අනි...       si\n",
      "87  මමත් රුමේනියාවෙ තමයි ඉන්නෙ.මෙහේ සැප ගන්න බෑ.අප...       si\n",
      "88  මං ඇවිත් අවරුදු 7i මටනම් hodai ගාමන්ට් ඉන්නේ ආ...       si\n",
      "89  කවුරුත් මේවා කිවාට විශ්වාස කරන්නේ නැහැ දන් හැම...       si\n",
      "\n",
      "[90 rows x 2 columns]\n"
     ]
    }
   ],
   "source": [
    "import pandas as pd\n",
    "\n",
    "# Load the Sinhala comments DataFrame from the CSV file\n",
    "loaded_sinhala_comments_df = pd.read_csv('sinhala_comments.csv')\n",
    "\n",
    "# Display the loaded DataFrame\n",
    "print(loaded_sinhala_comments_df)\n"
   ]
  },
  {
   "cell_type": "code",
   "execution_count": 4,
   "metadata": {},
   "outputs": [
    {
     "name": "stdout",
     "output_type": "stream",
     "text": [
      "['thama', 'padi', 'me', 'issues', 'nam', 'lei', 'badaginne', 'hutta', 'un', 'kawruth', 'ahuneme', 'Skill', 'Boy', 'bari', 'bath', 'Save', 'pixel', 'display', 'Samsung', 'Ruchira', 'Mata', 'S', 'chaina', 'recommend', 'ehat', 'ai', 'Apple', 'ipone', 'Chamod', 'nama', 'samsung', 'A', 'ma', 'katat', 'k', 'line', 'Technical', 'Sagara', 'eka', 'kiyanna', 'iphone', 'enne', 'England', 'tv', 's', 'flagship', 'karana', 'wenas', 'green', 'ganan', 'High', 'wadak', 'Update', 'Samsumg', 'use', 'apple', 'serios', 'ane', 'screen', 'Dilshan', 'poddk', 'hil', 'phone', 'Madushan', 'eke', 'series', 'L', 'photo', 'na', 'weda', 'kiyala', 'hodai', 'speed', 'ge', 'ledak', 'wada', 'Review', 'ganak', 'dan', 'Nirosh']\n"
     ]
    }
   ],
   "source": [
    "import pandas as pd\n",
    "import re\n",
    "\n",
    "# Load the Sinhala comments DataFrame from the CSV file\n",
    "loaded_sinhala_comments_df = pd.read_csv('sinhala_comments.csv')\n",
    "\n",
    "# Define a regular expression pattern to match English words\n",
    "english_word_pattern = re.compile(r'\\b[a-zA-Z]+\\b')\n",
    "\n",
    "# Function to extract English words from a comment\n",
    "def extract_english_words(comment):\n",
    "    english_words = re.findall(english_word_pattern, comment)\n",
    "    return english_words\n",
    "\n",
    "# Apply the function to the 'Comment' column\n",
    "loaded_sinhala_comments_df['English_Words'] = loaded_sinhala_comments_df['Comment'].apply(extract_english_words)\n",
    "\n",
    "# Flatten the list of English words\n",
    "english_word_list = [word for sublist in loaded_sinhala_comments_df['English_Words'] for word in sublist]\n",
    "\n",
    "# Remove duplicates\n",
    "english_word_list = list(set(english_word_list))\n",
    "\n",
    "# Display the list of English words\n",
    "print(english_word_list)\n",
    "\n"
   ]
  },
  {
   "cell_type": "code",
   "execution_count": 5,
   "metadata": {},
   "outputs": [
    {
     "name": "stdout",
     "output_type": "stream",
     "text": [
      "{'thama': 'තාම', 'padi': 'පදි', 'me': 'මේ', 'issues': 'ගැටළු', 'nam': 'නම්', 'lei': 'ලෙස', 'badaginne': 'බදගින්නේ', 'hutta': 'හුට්ට', 'un': 'උන්', 'kawruth': 'කවුරුත්', 'ahuneme': 'අහුනෙමේ', 'Skill': 'ක්ෂකත්වය', 'Boy': 'බොයි', 'bari': 'බරි', 'bath': 'බත්', 'Save': 'සුරකින්න', 'pixel': 'පික්ශල්', 'display': 'ප්රදර්ශනය', 'Samsung': 'සැම්සන්ග්', 'Ruchira': 'රුචිර', 'Mata': 'මට', 'S': 'එස්', 'chaina': 'චීන', 'recommend': 'නිවැරදි කරනවා', 'ehat': 'එහාට', 'ai': 'ඒයි', 'Apple': 'ඇපල්', 'ipone': 'යයිපෝන්', 'Chamod': 'චාමොඩ්', 'nama': 'නම', 'samsung': 'සැම්සන්ග්', 'A': 'ඒ', 'ma': 'ම', 'katat': 'කටට්', 'k': 'ක්', 'line': 'විස්වාසී', 'Technical': 'තාක්ෂණවාදය', 'Sagara': 'සාගර', 'eka': 'එක', 'kiyanna': 'කියන්න', 'iphone': 'අයිෆෝන්', 'enne': 'එන්නේ', 'England': 'එංගලන්තය', 'tv': 'ටීවී', 's': 'සී', 'flagship': 'ප්ලැග්ෂිප්', 'karana': 'කරනවා', 'wenas': 'වෙනස්', 'green': 'කොළ', 'ganan': 'ගනන්', 'High': 'හයි', 'wadak': 'වඩක්', 'Update': 'යාවත්කාලී', 'Samsumg': 'සැම්සන්ග්', 'use': 'භාවිතා', 'apple': 'ඇපල්', 'serios': 'සීරියස්', 'ane': 'ඇනේ', 'screen': 'ස්ක්\\u200dරීන්', 'Dilshan': 'දිල්ශන්', 'poddk': 'පොඩ්ක්', 'hil': 'හිල්', 'phone': 'දුරකථනය', 'Madushan': 'මධූෂන්', 'eke': 'එකේ', 'series': 'සීරීස්', 'L': 'එල්', 'photo': 'ඡායාරූප', 'na': 'නෑ', 'weda': 'වෙඩ', 'kiyala': 'කියලා', 'hodai': 'හොඳයි', 'speed': 'වේගය', 'ge': 'ගේ', 'ledak': 'ලේඛ', 'wada': 'වාඩ', 'Review': 'අදහස්', 'ganak': 'ගනක්', 'dan': 'දන්', 'Nirosh': 'නිරෝෂ්'}\n"
     ]
    }
   ],
   "source": [
    "translation_dict = {\n",
    "    'thama': 'තාම',\n",
    "    'padi': 'පදි',\n",
    "    'me': 'මේ',\n",
    "    'issues': 'ගැටළු',\n",
    "    'nam': 'නම්',\n",
    "    'lei': 'ලෙස',\n",
    "    'badaginne': 'බදගින්නේ',\n",
    "    'hutta': 'හුට්ට',\n",
    "    'un': 'උන්',\n",
    "    'kawruth': 'කවුරුත්',\n",
    "    'ahuneme': 'අහුනෙමේ',\n",
    "    'Skill': 'ක්ෂකත්වය',\n",
    "    'Boy': 'බොයි',\n",
    "    'bari': 'බරි',\n",
    "    'bath': 'බත්',\n",
    "    'Save': 'සුරකින්න',\n",
    "    'pixel': 'පික්ශල්',\n",
    "    'display': 'ප්රදර්ශනය',\n",
    "    'Samsung': 'සැම්සන්ග්',\n",
    "    'Ruchira': 'රුචිර',\n",
    "    'Mata': 'මට',\n",
    "    'S': 'එස්',\n",
    "    'chaina': 'චීන',\n",
    "    'recommend': 'නිවැරදි කරනවා',\n",
    "    'ehat': 'එහාට',\n",
    "    'ai': 'ඒයි',\n",
    "    'Apple': 'ඇපල්',\n",
    "    'ipone': 'යයිපෝන්',\n",
    "    'Chamod': 'චාමොඩ්',\n",
    "    'nama': 'නම',\n",
    "    'samsung': 'සැම්සන්ග්',\n",
    "    'A': 'ඒ',\n",
    "    'ma': 'ම',\n",
    "    'katat': 'කටට්',\n",
    "    'k': 'ක්',\n",
    "    'line': 'විස්වාසී',\n",
    "    'Technical': 'තාක්ෂණවාදය',\n",
    "    'Sagara': 'සාගර',\n",
    "    'eka': 'එක',\n",
    "    'kiyanna': 'කියන්න',\n",
    "    'iphone': 'අයිෆෝන්',\n",
    "    'enne': 'එන්නේ',\n",
    "    'England': 'එංගලන්තය',\n",
    "    'tv': 'ටීවී',\n",
    "    's': 'සී',\n",
    "    'flagship': 'ප්ලැග්ෂිප්',\n",
    "    'karana': 'කරනවා',\n",
    "    'wenas': 'වෙනස්',\n",
    "    'green': 'කොළ',\n",
    "    'ganan': 'ගනන්',\n",
    "    'High': 'හයි',\n",
    "    'wadak': 'වඩක්',\n",
    "    'Update': 'යාවත්කාලී',\n",
    "    'Samsumg': 'සැම්සන්ග්',\n",
    "    'use': 'භාවිතා',\n",
    "    'apple': 'ඇපල්',\n",
    "    'serios': 'සීරියස්',\n",
    "    'ane': 'ඇනේ',\n",
    "    'screen': 'ස්ක්‍රීන්',\n",
    "    'Dilshan': 'දිල්ශන්',\n",
    "    'poddk': 'පොඩ්ක්',\n",
    "    'hil': 'හිල්',\n",
    "    'phone': 'දුරකථනය',\n",
    "    'Madushan': 'මධූෂන්',\n",
    "    'eke': 'එකේ',\n",
    "    'series': 'සීරීස්',\n",
    "    'L': 'එල්',\n",
    "    'photo': 'ඡායාරූප',\n",
    "    'na': 'නෑ',\n",
    "    'weda': 'වෙඩ',\n",
    "    'kiyala': 'කියලා',\n",
    "    'hodai': 'හොඳයි',\n",
    "    'speed': 'වේගය',\n",
    "    'ge': 'ගේ',\n",
    "    'ledak': 'ලේඛ',\n",
    "     'wada': 'වාඩ',\n",
    "    'Review': 'අදහස්',\n",
    "    'ganak': 'ගනක්',\n",
    "    'dan': 'දන්',\n",
    "    'Nirosh': 'නිරෝෂ්',\n",
    "}\n",
    "\n",
    "print(translation_dict)\n"
   ]
  },
  {
   "cell_type": "code",
   "execution_count": null,
   "metadata": {},
   "outputs": [],
   "source": [
    "# from googletrans import Translator\n",
    "# import re\n",
    "\n",
    "# def convert_to_sinhala(text):\n",
    "#     # Translate English words to Sinhala\n",
    "#     translator = Translator()\n",
    "#     translated_text = translator.translate(text, dest='si').text\n",
    "\n",
    "#     # Replace English words with Sinhala words using a dictionary\n",
    "#     translation_dict = {\n",
    "#         'display': 'ප්රදර්ශනය',\n",
    "#         'issues': 'ගැටළු',\n",
    "#         # Add more words as needed\n",
    "#     }\n",
    "\n",
    "#     # Use regular expression to replace English words with Sinhala words\n",
    "#     for word, translation in translation_dict.items():\n",
    "#         translated_text = re.sub(r'\\b' + re.escape(word) + r'\\b', translation, translated_text, flags=re.IGNORECASE)\n",
    "\n",
    "#     return translated_text\n",
    "\n",
    "# # Example usage\n",
    "# sinhala_comment = \"ඇයි display issues ගැන කතා කරන්නේ නැත්තේ S ser...\"\n",
    "# converted_comment = convert_to_sinhala(sinhala_comment)\n",
    "# print(converted_comment)"
   ]
  },
  {
   "cell_type": "code",
   "execution_count": 7,
   "metadata": {},
   "outputs": [
    {
     "name": "stdout",
     "output_type": "stream",
     "text": [
      "                                              Comment Language\n",
      "0   ඇයි ප්රදර්ශනය ගැටළු ගැන කතා කරන්නේ නැත්තේ එස් ...       si\n",
      "1                      යාවත්කාලී කරාට පස්සේ ඉරි යයිද👀       si\n",
      "2                               පත ලයින් එකක් ගියාම 😂       si\n",
      "3                    😂 වැඩක් වෙන් නෑ බන් ගන්න වෙන් නෑ       si\n",
      "4                          ඇපල් වලටත් කෙලිය එහෙනම් 😂😂       si\n",
      "..                                                ...      ...\n",
      "85  රුමේනියා යනවනම් රොසෙල් ඒජන්සියෙන් යන්න. කිසි ද...       si\n",
      "86  ගෙදර නෙවෙයි.ලංකාව නෙවෙයි රට ජිවිතෙ කියන්නෙ,අනි...       si\n",
      "87  මමත් රුමේනියාවෙ තමයි ඉන්නෙ.මෙහේ සැප ගන්න බෑ.අප...       si\n",
      "88  මං ඇවිත් අවරුදු 7i මටනම් හොඳයි ගාමන්ට් ඉන්නේ ආ...       si\n",
      "89  කවුරුත් මේවා කිවාට විශ්වාස කරන්නේ නැහැ දන් හැම...       si\n",
      "\n",
      "[90 rows x 2 columns]\n"
     ]
    }
   ],
   "source": [
    "# Replace English words with their Sinhala translations in the 'Comment' column\n",
    "def replace_english_with_sinhala(comment):\n",
    "    words = comment.split()\n",
    "    translated_words = [translation_dict.get(word, word) for word in words]\n",
    "    return ' '.join(translated_words)\n",
    "\n",
    "# Apply the replacement function to the 'Comment' column\n",
    "loaded_sinhala_comments_df['Comment'] = loaded_sinhala_comments_df['Comment'].apply(replace_english_with_sinhala)\n",
    "\n",
    "# Display the DataFrame with replaced comments\n",
    "print(loaded_sinhala_comments_df[['Comment', 'Language']])\n"
   ]
  },
  {
   "cell_type": "code",
   "execution_count": 8,
   "metadata": {},
   "outputs": [],
   "source": [
    "# Save the DataFrame with replaced comments to a CSV file\n",
    "loaded_sinhala_comments_df.to_csv('../../data/replaced_english_to_sinhala.csv', index=False)\n"
   ]
  }
 ],
 "metadata": {
  "kernelspec": {
   "display_name": "Python 3 (ipykernel)",
   "language": "python",
   "name": "python3"
  },
  "language_info": {
   "codemirror_mode": {
    "name": "ipython",
    "version": 3
   },
   "file_extension": ".py",
   "mimetype": "text/x-python",
   "name": "python",
   "nbconvert_exporter": "python",
   "pygments_lexer": "ipython3",
   "version": "3.11.5"
  }
 },
 "nbformat": 4,
 "nbformat_minor": 4
}
