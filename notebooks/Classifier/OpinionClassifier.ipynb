{
 "cells": [
  {
   "cell_type": "code",
   "execution_count": 20,
   "metadata": {},
   "outputs": [],
   "source": [
    "from nltk.sentiment.vader import SentimentIntensityAnalyzer\n",
    "import pandas as pd"
   ]
  },
  {
   "cell_type": "code",
   "execution_count": 21,
   "metadata": {},
   "outputs": [
    {
     "name": "stdout",
     "output_type": "stream",
     "text": [
      "0                                    2000 එකෙක්ද 😂\n",
      "1                              මොඩ පොලිස් gothyek😂\n",
      "2                                    හොද වැඩේ..😂😂😂\n",
      "3                       කොල්ලට bike එකට ආස හිතිල😅😅\n",
      "4                                         ගහපිය 😂💔\n",
      "                          ...                     \n",
      "495                            බයික් aka hambunada\n",
      "496                        ඌට පදින්න ආස හිතිලා 🥴😂👍\n",
      "497                          ගහපන් අයියෙ අල්ලගෙන😂😂\n",
      "498     කනපලා ගන්නේ නැතුව බැහින්න කිව්වා නම් හරි 😅\n",
      "499    @Sanju D Liyanage කොහෙ ගියත් පොලිස් පකෙක් 😅\n",
      "Name: Comment, Length: 500, dtype: object\n"
     ]
    }
   ],
   "source": [
    "df = pd.read_csv('../../data/replaced_english_to_sinhala.csv')\n",
    "\n",
    "import pandas as pd\n",
    "\n",
    "# Assuming 'df' is your DataFrame\n",
    "# Display up to 500 rows from the \"Comment\" column\n",
    "comments_subset = df['Comment'].head(500)\n",
    "print(comments_subset)\n"
   ]
  },
  {
   "cell_type": "code",
   "execution_count": null,
   "metadata": {},
   "outputs": [],
   "source": [
    "\n"
   ]
  },
  {
   "cell_type": "code",
   "execution_count": 22,
   "metadata": {},
   "outputs": [
    {
     "data": {
      "text/html": [
       "<div>\n",
       "<style scoped>\n",
       "    .dataframe tbody tr th:only-of-type {\n",
       "        vertical-align: middle;\n",
       "    }\n",
       "\n",
       "    .dataframe tbody tr th {\n",
       "        vertical-align: top;\n",
       "    }\n",
       "\n",
       "    .dataframe thead th {\n",
       "        text-align: right;\n",
       "    }\n",
       "</style>\n",
       "<table border=\"1\" class=\"dataframe\">\n",
       "  <thead>\n",
       "    <tr style=\"text-align: right;\">\n",
       "      <th></th>\n",
       "      <th>Comment Id</th>\n",
       "      <th>User Id</th>\n",
       "      <th>Reply Comment Id</th>\n",
       "      <th>Digg Count</th>\n",
       "      <th>Reply Count</th>\n",
       "      <th>Video Id</th>\n",
       "    </tr>\n",
       "  </thead>\n",
       "  <tbody>\n",
       "    <tr>\n",
       "      <th>count</th>\n",
       "      <td>3.970000e+03</td>\n",
       "      <td>3.970000e+03</td>\n",
       "      <td>3.970000e+03</td>\n",
       "      <td>3970.000000</td>\n",
       "      <td>3904.000000</td>\n",
       "      <td>3.970000e+03</td>\n",
       "    </tr>\n",
       "    <tr>\n",
       "      <th>mean</th>\n",
       "      <td>7.221770e+18</td>\n",
       "      <td>6.953478e+18</td>\n",
       "      <td>1.199558e+17</td>\n",
       "      <td>1.136524</td>\n",
       "      <td>0.074283</td>\n",
       "      <td>7.210500e+18</td>\n",
       "    </tr>\n",
       "    <tr>\n",
       "      <th>std</th>\n",
       "      <td>2.123808e+16</td>\n",
       "      <td>4.107298e+17</td>\n",
       "      <td>9.226974e+17</td>\n",
       "      <td>22.970278</td>\n",
       "      <td>1.103933</td>\n",
       "      <td>1.024129e+03</td>\n",
       "    </tr>\n",
       "    <tr>\n",
       "      <th>min</th>\n",
       "      <td>7.210438e+18</td>\n",
       "      <td>1.690231e+15</td>\n",
       "      <td>0.000000e+00</td>\n",
       "      <td>0.000000</td>\n",
       "      <td>0.000000</td>\n",
       "      <td>7.210500e+18</td>\n",
       "    </tr>\n",
       "    <tr>\n",
       "      <th>25%</th>\n",
       "      <td>7.210718e+18</td>\n",
       "      <td>6.849306e+18</td>\n",
       "      <td>0.000000e+00</td>\n",
       "      <td>0.000000</td>\n",
       "      <td>0.000000</td>\n",
       "      <td>7.210500e+18</td>\n",
       "    </tr>\n",
       "    <tr>\n",
       "      <th>50%</th>\n",
       "      <td>7.211414e+18</td>\n",
       "      <td>6.998108e+18</td>\n",
       "      <td>0.000000e+00</td>\n",
       "      <td>0.000000</td>\n",
       "      <td>0.000000</td>\n",
       "      <td>7.210500e+18</td>\n",
       "    </tr>\n",
       "    <tr>\n",
       "      <th>75%</th>\n",
       "      <td>7.230551e+18</td>\n",
       "      <td>7.119436e+18</td>\n",
       "      <td>0.000000e+00</td>\n",
       "      <td>0.000000</td>\n",
       "      <td>0.000000</td>\n",
       "      <td>7.210500e+18</td>\n",
       "    </tr>\n",
       "    <tr>\n",
       "      <th>max</th>\n",
       "      <td>7.331623e+18</td>\n",
       "      <td>7.321315e+18</td>\n",
       "      <td>7.238263e+18</td>\n",
       "      <td>1075.000000</td>\n",
       "      <td>47.000000</td>\n",
       "      <td>7.210500e+18</td>\n",
       "    </tr>\n",
       "  </tbody>\n",
       "</table>\n",
       "</div>"
      ],
      "text/plain": [
       "         Comment Id       User Id  Reply Comment Id   Digg Count  Reply Count  \\\n",
       "count  3.970000e+03  3.970000e+03      3.970000e+03  3970.000000  3904.000000   \n",
       "mean   7.221770e+18  6.953478e+18      1.199558e+17     1.136524     0.074283   \n",
       "std    2.123808e+16  4.107298e+17      9.226974e+17    22.970278     1.103933   \n",
       "min    7.210438e+18  1.690231e+15      0.000000e+00     0.000000     0.000000   \n",
       "25%    7.210718e+18  6.849306e+18      0.000000e+00     0.000000     0.000000   \n",
       "50%    7.211414e+18  6.998108e+18      0.000000e+00     0.000000     0.000000   \n",
       "75%    7.230551e+18  7.119436e+18      0.000000e+00     0.000000     0.000000   \n",
       "max    7.331623e+18  7.321315e+18      7.238263e+18  1075.000000    47.000000   \n",
       "\n",
       "           Video Id  \n",
       "count  3.970000e+03  \n",
       "mean   7.210500e+18  \n",
       "std    1.024129e+03  \n",
       "min    7.210500e+18  \n",
       "25%    7.210500e+18  \n",
       "50%    7.210500e+18  \n",
       "75%    7.210500e+18  \n",
       "max    7.210500e+18  "
      ]
     },
     "execution_count": 22,
     "metadata": {},
     "output_type": "execute_result"
    }
   ],
   "source": [
    "df.describe()"
   ]
  },
  {
   "cell_type": "code",
   "execution_count": 23,
   "metadata": {},
   "outputs": [
    {
     "data": {
      "text/plain": [
       "Comment Id            0\n",
       "User Id               0\n",
       "Unique Id             0\n",
       "Nickname              1\n",
       "Avatar                0\n",
       "User URL              0\n",
       "Reply Comment Id      0\n",
       "Comment               0\n",
       "Digg Count            0\n",
       "Reply Count          66\n",
       "Is Author Digged      0\n",
       "Author Pin           66\n",
       "Language            420\n",
       "Create Time           0\n",
       "Video URL             0\n",
       "Video Id              0\n",
       "English_Words         0\n",
       "dtype: int64"
      ]
     },
     "execution_count": 23,
     "metadata": {},
     "output_type": "execute_result"
    }
   ],
   "source": [
    "df.isnull().sum()\n"
   ]
  }
 ],
 "metadata": {
  "kernelspec": {
   "display_name": "Python 3",
   "language": "python",
   "name": "python3"
  },
  "language_info": {
   "codemirror_mode": {
    "name": "ipython",
    "version": 3
   },
   "file_extension": ".py",
   "mimetype": "text/x-python",
   "name": "python",
   "nbconvert_exporter": "python",
   "pygments_lexer": "ipython3",
   "version": "3.12.0"
  }
 },
 "nbformat": 4,
 "nbformat_minor": 2
}
