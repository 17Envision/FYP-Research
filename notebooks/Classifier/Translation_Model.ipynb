{
 "cells": [
  {
   "cell_type": "code",
   "execution_count": 51,
   "metadata": {},
   "outputs": [
    {
     "name": "stdout",
     "output_type": "stream",
     "text": [
      "['deka', 'inna', 'Ape', 'oka', 'asawat', 'poor', 'patau', 'thanikarama', 'rekkek', 'rejister', 'aiyla', 'hemathenama', 'ghanna', 'kon', 'wereddak', 'kohomath', 'gati', 'unm', 'watinawa', 'higa', 'geniyanda', 'fake', 'thana', 'piruna', 'policy', 'higannunta', 'karanawa', 'tani', 'Hukawanna', 'nodi', 'ahanna', 'eth', 'damme', 'mey', 'come', 'suwa', 'wla', 'lowth', 'media', 'therum', 'kalaknni', 'rmb', 'krna', 'baike', 'ekektawath', 'yunipom', 'idimila', 'vage', 'henayayak', 'ban', 'lilanne', 'hri', 'anawa', 'sri', 'jelak', 'naginna', 'geeniyek', 'cariyo', 'pakekda', 'weaige', 'Kama', 'anapn', 'basith', 'Parssaman', 'watenna', 'vede', 'Aa', 'wdak', 'sakkili', 'asawk', 'hukala', 'photo', 'neh', 'gothayage', 'Sanju', 'daahan', 'gananwala', 'hadanawa', 'meeekata', 'ekkuth', 'hutthe', 'BadaLa', 'ehek', 'duty', 'namawath', 'BANDARAWELA', 'httige', 'ammage', 'asave', 'ube', 'wede', 'kari', 'botu', 'enne', 'polices', 'mawa', 'keri', 'onna', 'ekkenata', 'it', 'bari', 'da', 'thawas', 'lesi', 'ammata', 'tiyana', 'pani', 'dannethuwa', 'ohonmamai', 'karanakota', 'kuduwenna', 'Huthha', 'ponyonta', 'yanava', 'punda', 'ekage', 'ala', 'Kryooooo', 'pi', 'garu', 'bikema', 'account', 'aasawata', 'gahamna', 'karanne', 'owata', 'gemba', 'Deepan', 'gapann', 'gu', 'aoye', 'Kariya', 'kapu', 'cop', 'minissune', 'koeda', 'to', 'thina', 'Mona', 'kalutara', 'Gammak', 'Gahapam', 'Don', 'asaranayata', 'wat', 'mulinma', 's', 'gon', 'registerd', 'khd', 'oone', 'Polisiye', 'gahana', 'elluwa', 'dannath', 'poice', 'thami', 'thamaiii', 'gothya', 'lejjaiii', 'wenawa', 'balnna', 'huttata', 'pelenna', 'kiyanta', 'hithila', 'eyya', 'hadnne', 'ganne', 'pkyo', 'mokadabune', 'giyapu', 'ghapiyau', 'kolletta', 'plenna', 'ola', 'Aluthen', 'hinane', 'aranyanna', 'off', 'aluth', 'ghpn', 'hujja', 'thama', 'kadenna', 'matanam', 'asaeata', 'kalkanni', 'pelle', 'baluve', 'poraka', 'panigal', 'mehm', 'ade', 'Ut', 'bassa', 'Dodangoda', 'ministers', 'awith', 'hitannethi', 'gadara', 'wisikaranna', 'marala', 'gaha', 'karima', 'usaang', 'daruwooo', 'Oii', 'humthala', 'wasalayo', 'tebbe', 'kapala', 'higana', 'apinam', 'ponnayekne', 'kollata', 'pinnaayek', 'hariyannaththe', 'pakyala', 'right', 'ethi', 'Kala', 'ouwo', 'karaaya', 'siyata', 'monawTh', 'karayak', 'ekkda', 'kkari', 'kaniyata', 'gihilla', 'naa', 'wadi', 'polici', 'mata', 'echchrai', 'dakala', 'irisiyava', 'balapan', 'version', 'dkinkot', 'pw', 'polic', 'biyo', 'peleNNA', 'mahaloku', 'moku', 'patyiyek', 'araganin', 'pkyta', 'amaruwak', 'rassawenuth', 'huttalat', 'baek', 'mooda', 'hinayakata', 'unta', 'Kalaknni', 'Gahapiyq', 'friends', 'penne', 'guti', 'deepn', 'uwa', 'iwaraina', 'weno', 'gonnu', 'gotayak', 'mokak', 'DIG', 'podi', 'ugannanna', 'hutanta', 'palle', 'kukkek', 'pathinna', 'ekekne', 'manike', 'Eyata', 'Keriyo', 'ethin', 'ynn', 'gana', 'alla', 'licences', 'kolahala', 'Gam', 'MHD', 'kollekta', 'denawa', 'wedeee', 'Allan', 'indan', 'padinawata', 'thiyan', 'pada', 'ep', 'http', 'oyata', 'ponoyonta', 'Bashith', 'parayata', 'policya', 'passen', 'karamu', 'ehm', 'hena', 'irisiyaa', 'daganna', 'thavath', 'ewn', 'ekth', 'galulola', 'nagena', 'suti', 'caryta', 'so', 'bayawenna', 'kariyaknee', 'yakek', 'witharai', 'hommama', 'Sri', 'tika', 'gahapaaaan', 'from', 'a', 'Nethmi', 'nisaa', 'kolek', 'ratavalvala', 'whutthata', 'only', 'kiri', 'itin', 'mudaladupaduwak', 'gelawenna', 'himansa', 'pakee', 'badunama', 'adl', 'yanna', 'huttige', 'api', 'malara', 'amoooo', 'nikan', 'broo', 'huttekda', 'dewal', 'gahuwe', 'hodata', 'beraganna', 'dannee', 'perad', 'modha', 'ballo', 'gobbayata', 'kudo', 'thibbe', 'bawila', 'joy', 'Vdo', 'wedata', 'denn', 'policye', 'eya', 'mara', 'danno', 'balek', 'awee', 'Vela', 'reading', 'mokekda', 'wamana', 'la', 'thiyla', 'ponnayage', 'owa', 'Aluth', 'aka', 'wela', 'pkya', 'thanak', 'kollekt', 'nondi', 'l', 'kollekge', 'UN', 'hina', 'pennana', 'lankave', 'baninna', 'dawaes', 'wunoth', 'pakooooooooo', 'gahanne', 'hatta', 'dangnna', 'dial', 'than', 'aasawa', 'tibiath', 'horekn', 'wada', 'pakekne', 'Http', 'asaweda', 'com', 'unee', 'Pake', 'visik', 'gothaya', 'nethuwa', 'balanna', 'gahamuda', 'polis', 'time', 'pedhala', 'situation', 'iskolen', 'ung', 'gahapalla', 'Hukawann', 'Supiri', 'bella', 'hitha', 'Pahadili', 'neththam', 'meh', 'tharanna', 'dapan', 'ponsiyat', 'Gothayo', 'lamayata', 'Gahapan', 'respect', 'bro', 'jara', 'gammk', 'ta', 'athadaruwo', 'godak', 'Dana', 'speechless', 'Gothta', 'bakir', 'gahapiyau', 'attibi', 'pita', 'try', 'geval', 'supiriii', 'karaddi', 'edakinwath', 'kaarayo', 'Fuzooly', 'duwnwa', 'wanted', 'kuhakayo', 'pakooo', 'haththata', 'original', 'wahane', 'Gahanna', 'whotto', 'lain', 'ekakda', 'O', 'and', 'ekaka', 'dakke', 'vath', 'harkak', 'Lanka', 'gahapiyako', 'policeiye', 'boruwata', 'lejchai', 'aswata', 'kalpanawan', 'pakayaek', 'asawata', 'rate', 'udura', 'tath', 'Endala', 'neddakin', 'elama', 'tharama', 'palenne', 'baikkekak', 'pmp', 'kara', 'neyda', 'dhannethiwethi', 'hadeida', 'hitiynm', 'balli', 'wena', 'sakkiliyek', 'amaruva', 'sapa', 'Tarahai', 'wagema', 'mokd', 'kollane', 'kolu', 'poiceye', 'welat', 'rilawek', 'rule', 'mathaka', 'huththek', 'loke', 'dawase', 'budi', 'polecya', 'karepan', 'oba', 'Uda', 'bhallata', 'regi', 'gahann', 'ata', 'nidahase', 'weada', 'gothyek', 'policciye', 'neethiya', 'mehema', 'wenda', 'he', 'pkayek', 'aulth', 'eccount', 'nikang', 'took', 'duwalabalanda', 'huhtha', 'nedda', 'basithbakir', 'amma', 'niyamiii', 'ndda', 'wa', 'sampurna', 'gaman', 'dapu', 'aduma', 'supar', 'mobaya', 'wenn', 'maragena', 'thrm', 'vesavek', 'athak', 'qwa', 'paarak', 'ballta', 'kalakanniyo', 'has', 'unge', 'Gemmak', 'sepai', 'iwasanne', 'tamae', 'aiyata', 'vesiga', 'pissata', 'ownam', 'ehemai', 'Muth', 'Those', 'jale', 'kariya', 'nithiya', 'mokadda', 'leddu', 'puluwn', 'sry', 'hutto', 'lokuwedak', 'ne', 'Ow', 'gahanda', 'wtenna', 'blddi', 'polu', 'gahan', 'munwa', 'wege', 'kudu', 'kiyanda', 'kotiyai', 'nemeine', 'muge', 'huththoooo', 'dekk', 'ekak', 'nodanna', 'kalakanni', 'mage', 'ohoma', 'Mokedda', 'aaapu', 'lankavene', 'illapnko', 'wen', 'uni', 'baik', 'karapn', 'aparade', 'use', 'padapn', 'eun', 'policiye', 'duka', 'bassapan', 'vai', 'irisiyai', 'nelanda', 'Muna', 'back', 'there', 'Oyavage', 'awnta', 'otana', 'anna', 'kanek', 'yakoo', 'wedane', 'ai', 'yaar', 'hattha', 'puthalata', 'kotasa', 'pgyala', 'podai', 'nene', 'allamud', 'Wanuja', 'Gon', 'bick', 'too', 'anika', 'modayak', 'yannada', 'pathwunu', 'bikeui', 'children', 'my', 'Gota', 'kuththokaputhalane', 'haicepesiti', 'hithnne', 'mansi', 'idn', 'dekta', 'el', 'muwa', 'kollanta', 'wahanayakwath', 'onne', 'eeya', 'ratak', 'nalla', 'Kari', 'babh', 'noticed', 'pagayata', 'dawas', 'polissiyath', 'e', 'pakyek', 'aawama', 'bang', 'muna', 'kolukmtath', 'park', 'his', 'Loku', 'nm', 'therun', 'negganam', 'Scle', 'viyadamata', 'Mrnn', 'karama', 'nama', 'adee', 'Ake', 'ponna', 'amuthu', 'karyon', 'mathkwenne', 'malliyo', 'kollekwath', 'Newei', 'meka', 'giya', 'uththara', 'hukannek', 'hen', 'kalaknniyek', 'hutthekd', 'caraiya', 'Uniform', 'pinnyata', 'purola', 'vidiyata', 'rajakarayak', 'parata', 'ned', 'ekekta', 'people', 'ekka', 'negge', 'Thopi', 'jealous', 'Ai', 'hadala', 'ballonta', 'keriyonta', 'ganita', 'hamoma', 'ehema', 'bn', 'gambatto', 'adumath', 'job', 'suwar', 'kohed', 'kate', 'jivitet', 'updates', 'gemma', 'kohe', 'gmmk', 'sakshi', 'pagawa', 'wenw', 'tendona', 'tiyanna', 'nta', 'munt', 'Hira', 'ahuwama', 'kariyooo', 'nelanna', 'siwil', 'asainm', 'liyanna', 'haduwa', 'daruwot', 'asama', 'oyame', 'kolleta', 'irisiya', 'kata', 'hariyata', 'rawmak', 'kiyanneee', 'bellen', 'pathinda', 'watayak', 'kenek', 'nha', 'munakuduwenna', 'kids', 'okt', 'ake', 'anda', 'innadennemane', 'tikk', 'idkin', 'hithenna', 'krla', 'Nexst', 'Podiya', 'ah', 'all', 'ponnoyo', 'kryek', 'onai', 'paddoth', 'atte', 'ekne', 'amathiwarunta', 'dammanm', 'ghrahnawa', 'race', 'tamai', 'who', 'kawadath', 'bayakrla', 'nn', 'hithiyanam', 'Any', 'mt', 'ka', 'dekala', 'sine', 'mokedda', 'wetenda', 'nisa', 'nawathhala', 'baysikale', 'kaluthara', 'kariydknee', 'Fucking', 'elmm', 'thirisannu', 'sali', 'Baik', 'pinniyek', 'ekekt', 'pennanna', 'pauban', 'pattai', 'dakkama', 'thiyei', 'asadarana', 'tht', 'just', 'namai', 'modamusalayek', 'balooo', 'watura', 'ganin', 't', 'nagala', 'kade', 'okunthama', 'number', 'thiyena', 'school', 'wahanayak', 'gdra', 'kiyawannetuwa', 'Ponnna', 'put', 'vayas', 'hithanna', 'aluthig', 'go', 'puka', 'den', 'Un', 'eyata', 'allapan', 'tibbe', 'putala', 'puta', 'unnata', 'gahaoanko', 'wenati', 'nam', 'okh', 'ekete', 'Nedakin', 'kanapalannako', 'Bakir', 'ye', 'collonge', 'labbadda', 'thalenna', 'keth', 'diipan', 'evilla', 'thbbnm', 'kiyann', 'utthare', 'ghnn', 'Dada', 'akuratama', 'mug', 'dakak', 'oua', 'ponnaya', 'Sir', 'Yahya', 'eii', 'paadamakk', 'kiyawa', 'Male', 'wagae', 'ghapan', 'dhamma', 'glwla', 'kiyanna', 'newy', 'iye', 'evidence', 'nevei', 'uto', 'kphed', 'oota', 'kelapam', 'nah', 'huththala', 'Oyawage', 'kri', 'hitapan', 'ghn', 'pisssu', 'someone', 'bolis', 'passout', 'puke', 'atti', 'Ft', 'gama', 'muhona', 'thamai', 'Hodawede', 'auni', 'attama', 'supper', 'Pina', 'adoo', 'samini', 'ado', 'gahapiyaw', 'mnda', 'inn', 'Pakayala', 'palathaka', 'boda', 'nathuw', 'yathura', 'Payya', 'punsih', 'baikekakdekkama', 'akekda', 'karandappa', 'prt', 'dunne', 'om', 'hello', 'lagai', 'thmaa', 'Liyanage', 'paka', 'GN', 'Wadduwa', 'gahnn', 'thirisan', 'hukwanma', 'chater', 'ewunta', 'monavada', 'neluwanam', 'epq', 'biken', 'vela', 'ssp', 'wenna', 'mattu', 'Okunt', 'gothyk', 'Niwan', 'palenna', 'u', 'niithiyak', 'naduwak', 'bimin', 'kiuwanam', 'aram', 'gapankooo', 'okte', 'salkala', 'policyata', 'Jealous', 'ponnayata', 'taniym', 'passa', 'Kalakanne', 'policeya', 'panjcham', 'thibboth', 'kolle', 'aduruwata', 'aurudde', 'fakaya', 'bae', 'hukan', 'porak', 'kagaththa', 'gobbayek', 'wath', 'Kana', 'amboo', 'pandith', 'mee', 'Hari', 'eken', 'Anna', 'yo', 'padina', 'ekekda', 'Fully', 'balala', 'asavata', 'pirimiyek', 'please', 'Okage', 'ghpam', 'seems', 'ungema', 'utnta', 'Thn', 'khda', 'Kelawannamai', 'amana', 'walat', 'Denna', 'batto', 'vidihata', 'sure', 'plz', 'venn', 'marenne', 'hitiyan', 'huttanta', 'ow', 'mk', 'unad', 'ountaaa', 'karayo', 'asawak', 'ringla', 'Hodhe', 'padinna', 'care', 'ohomamai', 'wesigeputhata', 'pmkya', 'kereyek', 'Mohamed', 'marayanna', 'wutthoda', 'hitila', 'daraganna', 'ohonmam', 'naik', 'paddapan', 'Moo', 'shit', 'dennepai', 'kumana', 'keriyoo', 'Mara', 'ona', 'illa', 'may', 'polawe', 'Paka', 'vealath', 'illuwanm', 'pod', 'marandaghmula', 'wadee', 'modayeda', 'tiyenne', 'ounohomatamao', 'palanna', 'lokukamak', 'ykado', 'ratata', 'wedee', 'witharada', 'call', 'cary', 'kehettawa', 'katata', 'oii', 'bnnn', 'haththak', 'kallak', 'purudu', 'policeyta', 'tik', 'sakkiliyo', 'wal', 'Maravila', 'geyane', 'dennek', 'lollek', 'seated', 'hukun', 'denako', 'ghapeyo', 'wesigi', 'eyalha', 'dala', 'wisi', 'horekda', 'vikunana', 'dipiya', 'ballek', 'kararo', 'polisiya', 'en', 'Gahann', 'illuwa', 'lankawene', 'kana', 'awun', 'balaa', 'Nice', 'like', 'mokuth', 'hirhk', 'pissuda', 'need', 'kiyl', 'polishne', 'mema', 'Hansika', 'apu', 'nnayi', 'wetila', 'policd', 'okage', 'tiyena', 'okunnge', 'diyan', 'janmayak', 'hitenne', 'Asama', 'ubane', 'mercy', 'magulakatada', 'appata', 'sakili', 'therenna', 'danne', 'balgena', 'alut', 'wetenna', 'gththa', 'merenna', 'mahama', 'bha', 'aiyage', 'road', 'polos', 'medawas', 'adoow', 'one', 'kale', 'dennethuwa', 'mevage', 'waradi', 'Get', 'kamathima', 'parayo', 'delak', 'pissu', 'hara', 'aninawadha', 'kagahanwa', 'iwaraine', 'modayo', 'karay', 'sagoo', 'hadavde', 'wayasata', 'Pissu', 'salakanna', 'munata', 'Civil', 'kerima', 'horunta', 'gahala', 'Paw', 'aiyee', 'hithilada', 'daneth', 'dunnanam', 'army', 'arinna', 'wachna', 'asawane', 'moosala', 'support', 'pakek', 'Itapasse', 'asvak', 'eka', 'ekt', 'shi', 'pra', 'age', 'badinna', 'kanawa', 'thunta', 'Ragapnna', 'una', 'hombata', 'do', 'wage', 'gannava', 'bassw', 'ganu', 'DIO', 'thamayi', 'Bahapiya', 'hetinda', 'helmat', 'paw', 'gothayaek', 'apathayek', 'boothayonta', 'Ssp', 'thanatama', 'akama', 'gahapan', 'aduranawa', 'akek', 'ekkata', 'ynna', 'modayoth', 'great', 'baba', 'henama', 'awadaneda', 'Sor', 'vidawala', 'tenna', 'heminena', 'polisiyan', 'Oun', 'thattuwak', 'videos', 'gothayoo', 'enaganna', 'baya', 'salaknna', 'marila', 'Rate', 'hire', 'Wow', 'ekath', 'minisu', 'hode', 'eww', 'ahe', 'eyala', 'bypass', 'pnayek', 'hospital', 'thiyenna', 'behepan', 'hukannooo', 'kohmd', 'gotyo', 'Hodata', 'saththu', 'good', 'ohma', 'ballage', 'kiyela', 'n', 'wechcha', 'Kolla', 'page', 'mokakda', 'gapang', 'kuduwenda', 'get', 'mar', 'karayage', 'ko', 'okkoma', 'fom', 'pennala', 'kohedo', 'kiyanne', 'hair', 'mutath', 'policiyata', 'kiyalawath', 'oyawage', 'bimata', 'ayya', 'Key', 'meke', 'thanikara', 'ipadunu', 'thyena', 'palayan', 'ballekneda', 'Respect', 'kabbek', 'Nela', 'dagalanava', 'ipaduna', 'Kollata', 'aswa', 'kare', 'know', 'salli', 'h', 'horekd', 'kollnge', 'ur', 'matath', 'dnne', 'Modayek', 'got', 'kariyo', 'karath', 'oic', 'pass', 'irisiywa', 'baldu', 'kapana', 'Awadanyda', 'bunk', 'oy', 'raja', 'awillad', 'gannewt', 'kiwwanm', 'porage', 'idakin', 'sakklili', 'thmaiii', 'vennaepa', 'kaththod', 'ekanik', 'with', 'Gahapn', 'kaala', 'dewii', 'gothayek', 'podak', 'hapiya', 'why', 'hadanawane', 'tiyanne', 'dnn', 'Dan', 'pamkayo', 'mokrkkda', 'giyada', 'dan', 'gihama', 'kollo', 'Huththo', 'Kant', 'kamata', 'apitath', 'pakak', 'gahannaona', 'polisiye', 'kirimailakwane', 'film', 'innea', 'phone', 'gonata', 'adi', 'pal', 'thiyanawa', 'kohoma', 'patawta', 'nh', 'kala', 'gahanawa', 'gam', 'keriyekta', 'akai', 'idk', 'jathiya', 'Irisiyakara', 'adapa', 'pas', 'sunna', 'Poddak', 'awitta', 'nithiyak', 'full', 'helmatakan', 'kathakarapan', 'hitilada', 'van', 'maru', 'Awadane', 'sir', 'Tikak', 'danWaya', 'gahapm', 'denna', 'vesige', 'baiketa', 'Adoo', 'ekke', 'Policiye', 'hora', 'tava', 'Pau', 'anunge', 'pakayat', 'atadeka', 'nethuva', 'vada', 'idla', 'gothayo', 'marennama', 'kolloni', 'mu', 'okahata', 'haduwata', 'whutta', 'kiyagena', 'ekk', 'aluthgama', 'byk', 'basspan', 'wathura', 'karayekda', 'eunda', 'kohmath', 'utto', 'Uuge', 'Yako', 'lnkawe', 'goths', 'gotayek', 'Did', 'kalakanith', 'Kiri', 'ookata', 'kwd', 'jathiyata', 'i', 'payn', 'kran', 'part', 'nemeid', 'watenda', 'pakku', 'yko', 'gahpiya', 'Round', 'hithil', 'mas', 'Gahapiyako', 'yan', 'arapn', 'oowa', 'puthtu', 'tho', 'hiina', 'krn', 'pako', 'okkom', 'aiyyoo', 'eakai', 'Munta', 'hondha', 'bimadagena', 'wtyk', 'hii', 'ouou', 'oluwata', 'kalakaniyek', 'karala', 'inne', 'pennanama', 'palenma', 'for', 'huththaa', 'kam', 'thinawa', 'gahapaiya', 'D', 'ptte', 'karapan', 'kollkt', 'bee', 'Puce', 'ammapa', 'jarawa', 'hukawanawa', 'colombo', 'gahl', 'hari', 'pissumun', 'hithuna', 'lollo', 'Ounge', 'ewarai', 'niti', 'BIKE', 'ugannanda', 'Me', 'rip', 'gothakariyoo', 'Munam', 'pakekk', 'enisa', 'beri', 'tibhbe', 'gapan', 'bm', 'waradak', 'lagadhi', 'pkyala', 'aya', 'Padinna', 'karamakota', 'okunge', 'sirawatama', 'hama', 'epei', 'adama', 'Ranil', 'lajjai', 'munge', 'nadda', 'tlk', 'dhenda', 'yanne', 'oun', 'awankawa', 'usaviye', 'ayye', 'asahithenna', 'bere', 'sigithi', 'owunwage', 'utala', 'seem', 'thuuu', 'nami', 'Ekath', 'hamannanna', 'dagaththama', 'roumak', 'aa', 'not', 'Tika', 'une', 'jathiyak', 'okama', 'hambenna', 'mi', 'take', 'Mokada', 'charitha', 'ragapanna', 'thienne', 'Police', 'kauda', 'Idakin', 'bayikke', 'machan', 'ponnyt', 'jivitheta', 'hichek', 'nitiya', 'cops', 'pagayant', 'toke', 'gahapiya', 'hinath', 'sappayek', 'ponnayagee', 'yacai', 'asaranai', 'Sakkiliya', 'ahu', 'bahapan', 'polociya', 'unifom', 'chiththayak', 'naki', 'ridenna', 'thiya', 'Traffic', 'penawada', 'redda', 'mha', 'puthek', 'sakkiliyun', 'marenna', 'lawyer', 'burauwata', 'boom', 'ganiyanna', 'FTP', 'odippakkapporan', 'gewala', 'jivithetawath', 'pakaya', 'policeyata', 'gewal', 'ahinsakaya', 'tear', 'hinda', 'niyamai', 'your', 'Okun', 'gattama', 'nogena', 'Yasai', 'aca', 'Ali', 'pol', 'Ghapan', 'Maha', 'tibunane', 'Konsam', 'tharu', 'dannadda', 'mn', 'pahadili', 'arageana', 'unglawath', 'kalakanniyek', 'vdee', 'Pakaya', 'gemak', 'ekata', 'dannae', 'ohama', 'Bro', 'mahaththaya', 'ouwge', 'marapang', 'dunilchanthuka', 'camajeh', 'Modayekne', 'He', 'chake', 'ugannapalla', 'thiyage', 'ponnayak', 'genichchada', 'kuduvenna', 'pkyek', 'nawattannawath', 'putek', 'Gobba', 'nahe', 'dhn', 'avith', 'aswt', 'bosa', 'nathnam', 'lisan', 'gaththad', 'pettiyek', 'Ekai', 'gahapanko', 'gahako', 'gonek', 'neti', 'doing', 'authority', 'andanawada', 'polissiyatath', 'banapan', 'arang', 'nasthi', 'welaa', 'polc', 'Pissk', 'ringane', 'you', 'wge', 'balloo', 'madiwata', 'ekayi', 'keriyonge', 'kollege', 'elma', 'hinta', 'wsnawa', 'waddek', 'erapm', 'damma', 'ita', 'station', 'whuttige', 'hukavapiya', 'baikkayak', 'pathak', 'lewa', 'mobile', 'dooo', 'ballake', 'waha', 'sipai', 'abawagena', 'mathak', 'awa', 'walata', 'raalahamila', 'J', 'tu', 'yakada', 'Ane', 'ekada', 'bhe', 'aiye', 'pdin', 'dannathi', 'dn', 'Kunuharapan', 'Lankan', 'rawumak', 'lept', 'kiyla', 'tibune', 'thalann', 'pinnyek', 'Mahama', 'allowed', 'onawel', 'heenayak', 'thamaaa', 'poleciya', 'alluwa', 'Gong', 'kerenewa', 'Muge', 'pakage', 'path', 'Mokddd', 'allagena', 'Kwd', 'video', 'him', 'next', 'ba', 'vune', 'jeewithayak', 'balan', 'puthata', 'hoyan', 'damama', 'kryo', 'without', 'kenekutath', 'arrinna', 'pak', 'owanata', 'stand', 'horek', 'nambuwa', 'wesige', 'Shit', 'thibe', 'vatayak', 'pdinn', 'natanne', 'epa', 'karayanta', 'want', 'kanata', 'hoyno', 'huttak', 'owuw', 'w', 'gahnne', 'amaruwe', 'unnam', 'dananwa', 'kuhakayoo', 'ginitiyanna', 'inno', 'power', 'enn', 'apo', 'kanna', 'pinata', 'andama', 'uwwwww', 'karayekdau', 'areng', 'gathi', 'be', 'gobba', 'naththe', 'netheya', 'pacyek', 'Pale', 'policyk', 'okunta', 'allan', 'pamkayekda', 'aye', 'nikm', 'baywela', 'valid', 'pissek', 'painna', 'okara', 'podiekek', 'should', 'kiyakda', 'thiyana', 'gaththe', 'thino', 'aluten', 'ape', 'kella', 'hutthala', 'ekko', 'bikeka', 'bala', 'puthlata', 'dunna', 'kanva', 'nkn', 'keriyooo', 'adapan', 'ehemada', 'petrol', 'lamayek', 'don', 'kollekne', 'allanna', 'adenna', 'onaaaa', 'jarama', 'pkaya', 'boruvak', 'yanawa', 'wesiyek', 'nokara', 'Meh', 'dunnama', 'gamaka', 'madi', 'idan', 'nala', 'ukanda', 'utah', 'neda', 'denava', 'kariyata', 'nati', 'viryo', 'polisiyen', 'mallita', 'Vidmal', 'htto', 'revila', 'zzin', 'ballange', 'okata', 'magic', 'pain', 'gahapeya', 'oyanam', 'Unge', 'hithunada', 'omakarn', 'dnna', 'pakai', 'kollenge', 'kiypn', 'mahaththurunt', 'haminila', 'lamyek', 'alln', 'post', 'uuu', 'nithi', 'ussala', 'kalknnint', 'mewata', 'nodhi', 'Ponna', 'huththo', 'lath', 'kal', 'pakakekda', 'okaa', 'ponnayekada', 'pase', 'mrnna', 'oyage', 'puluwan', 'dunnan', 'aasaiiii', 'keriyata', 'ekkak', 'asawta', 'ewunnan', 'polissiye', 'pakala', 'Fuck', 'alone', 'Ayye', 'result', 'poddak', 'manda', 'Maranna', 'muth', 'galawala', 'gihinda', 'ehama', 'Lankawe', 'Watayak', 'kollawa', 'katin', 'nathuwa', 'N', 'ati', 'salary', 'hodawade', 'arina', 'dikkara', 'kohomada', 'gewl', 'dekak', 'gala', 'kothana', 'hititat', 'asemai', 'ammala', 'Podhi', 'krnta', 'veda', 'kiayal', 'moooka', 'register', 'adinna', 'naduwk', 'kiyannepa', 'bech', 'nedakin', 'illegal', 'utek', 'gambatta', 'abarenna', 'trfic', 'arakshawa', 'kollak', 'huttage', 'eayala', 'mune', 'oninm', 'sit', 'meeharak', 'kaalakanni', 'pacec', 'dunnada', 'oyala', 'habai', 'policeyen', 'kanta', 'kiyannamlu', 'Uba', 'ge', 'maran', 'keyagena', 'chu', 'puthage', 'Chatar', 'ena', 'kawada', 'Drama', 'wudawala', 'gammak', 'kohde', 'enough', 'Hutto', 'krya', 'pinnayek', 'nedd', 'shoo', 'ela', 'akanam', 'Lankawa', 'dipan', 'real', 'dekka', 'talk', 'kiyawanna', 'uttak', 'gena', 'iekekne', 'kollage', 'karana', 'kannith', 'ganas', 'pord', 'Onna', 'Garava', 'siravata', 'Kanata', 'satu', 'kollkne', 'dinna', 'bnun', 'hambei', 'thopi', 'buruwata', 'gann', 'Lapati', 'niyama', 'ayiye', 'huttho', 'left', 'pky', 'athi', 'barida', 'horakan', 'kollegge', 'huttala', 'ducati', 'yano', 'rod', 'huuballata', 'heththa', 'pana', 'manussa', 'ghapiya', 'nithiye', 'wiyadama', 'up', 'modaA', 'vedee', 'haththa', 'fadiri', 'nathi', 'kaki', 'patiyat', 'eunge', 'Uta', 'hirunews', 'beane', 'dapalla', 'pakayta', 'ganam', 'Keri', 'awajthakayo', 'negala', 'bikes', 'unwa', 'hathikare', 'keeyak', 'hotha', 'palenda', 'huknno', 'dekm', 'ekanam', 'ponnyek', 'polisiyata', 'ynwa', 'pacha', 'traffic', 'ookt', 'gahapallabang', 'apahu', 'lankavata', 'luku', 'athal', 'laki', 'Jela', 'huthak', 'gaththama', 'irisiyawak', 'gas', 'iwarai', 'kewath', 'apa', 'bng', 'karipakku', 'amazed', 'buranna', 'yuniform', 'Apo', 'eunne', 'Utath', 'block', 'hambenne', 'Polis', 'ganim', 'polce', 'asavada', 'Ay', 'ewnta', 'suddh', 'kewa', 'ekh', 'athl', 'case', 'horakdo', 'dakshai', 'accarai', 'pole', 'puththu', 'moda', 'high', 'velath', 'ahuwanam', 'looks', 'asawa', 'illannee', 'paule', 'That', 'kalakirila', 'yakoooo', 'kolla', 'hithenne', 'kuhaka', 'madge', 'tok', 'giyma', 'licene', 'maha', 'apita', 'na', 'yamanko', 'maduruwek', 'nadu', 'denw', 'mod', 'ganiyekma', 'thibune', 'minihata', 'hamba', 'buru', 'aiya', 'ainge', 'gahagana', 'gonekne', 'hukannata', 'pakayek', 'niyamy', 'reccutek', 'varaddak', 'mokata', 'yaku', 'Irisiyaaaawa', 'Karen', 'owt', 'hila', 'Hichchi', 'satthunge', 'thota', 'yasai', 'idhi', 'pakayo', 'ellanne', 'huthata', 'baiyekkk', 'rajakari', 'ekki', 'kiyawenw', 'onadewal', 'karayonta', 'keriyo', 'galola', 'kosthapal', 'cool', 'asaranaya', 'ankekata', 'eknm', 'bahinna', 'ahgnnw', 'ain', 'wanna', 'pluwan', 'hignnu', 'thiyanawane', 'what', 'hodta', 'Bike', 'A', 'gahnna', 'oyt', 'pkku', 'mekane', 'wahanna', 'but', 'muu', 'brooo', 'pakayonta', 'maka', 'anith', 'kit', 'karalane', 'Kalakanni', 'law', 'gahapn', 'henagahapan', 'allala', 'help', 'manasika', 'unak', 'ithild', 'ghpan', 'we', 'paga', 'daragodsk', 'kollh', 'wesa', 'abbagathayo', 'fucked', 'mahatayata', 'Can', 'Salli', 'Aluthgma', 'kiyapan', 'paninta', 'kes', 'allaganna', 'Gothaya', 'aiyge', 'okun', 'Didn', 'in', 'ahaki', 'lankawa', 'ammo', 'hadane', 'tanna', 'Keriya', 'dennta', 'bene', 'eyat', 'ekakwath', 'ppolice', 'poliyath', 'pomnayek', 'giyama', 'athrala', 'bulls', 'ane', 'dekatanam', 'wadak', 'rassa', 'thmi', 'huththigeputhek', 'Hammo', 'nginne', 'kollat', 'dennadda', 'wasige', 'kariyanta', 'eke', 'katha', 'mokkda', 'Fc', 'pon', 'game', 'think', 'arapiya', 'lanka', 'mokunda', 'vala', 'meek', 'pepole', 'pakyo', 'deyak', 'duleendra', 'bothal', 'pelanna', 'ponnyata', 'penna', 'pau', 'Oya', 'ekkenek', 'geniyanna', 'thaniyan', 'hadapu', 'uneducated', 'siravatama', 'ballata', 'Palapan', 'aluthin', 'pgyata', 'career', 'chc', 'caryonta', 'ahinskya', 'ithin', 'kariyekk', 'pninne', 'hukwnn', 'thma', 'huththela', 'thnin', 'Uth', 'daanna', 'pkyi', 'oi', 'anukampa', 'kalknniys', 'kemriyo', 'onge', 'hinekata', 'wadeeee', 'khoheda', 'uda', 'elawapan', 'muta', 'no', 'wde', 'was', 'eahamatamai', 'thiyapanko', 'thaniyama', 'idadipiyai', 'modayakek', 'kollek', 'hodama', 'arapanko', 'ohommamai', 'thiynne', 'nane', 'habaa', 'ghala', 'heserachamith', 'recqut', 'thuvanna', 'tikakin', 'kaleta', 'katu', 'okaka', 'policiya', 'wita', 'mun', 'arag', 'other', 'Moko', 'thunpane', 'details', 'poliice', 'days', 'un', 'I', 'ekeke', 'Yasay', 'kynn', 'igena', 'dayal', 'Irisiya', 'Ghpn', 'panigale', 'danawa', 'Policeman', 'kariyek', 'Parak', 'gahpn', 'nis', 'pandithayata', 'karayek', 'Atikichchta', 'fuel', 'registernam', 'ponnyk', 'padhinna', 'pakayalata', 'awama', 'tiba', 'Withara', 'Munwa', 'giyath', 'okat', 'jarawak', 'gahanna', 'chutta', 'as', 'ithuru', 'ugurak', 'hukanna', 'pakayala', 'illanne', 'kiynne', 'vadi', 'Kada', 'pimpiyek', 'awanam', 'gaming', 'policeman', 'damne', 'addakimen', 'kna', 'kalakanninta', 'FB', 'hutholla', 'goth', 'gapaya', 'huthan', 'munva', 'pelen', 'pakayt', 'nagatta', 'Kegalle', 'ine', 'ekkatama', 'bahapn', 'hon', 'illahan', 'raulawath', 'Inna', 'monwth', 'horu', 'nagagaena', 'ponnyo', 'kollama', 'nahaya', 'danva', 'padala', 'horata', 'denawada', 'Hoda', 'tiktok', 'keriyawa', 'balanta', 'nawaththuwe', 'ut', 'at', 'palanda', 'dagaththa', 'Pirimi', 'Eh', 'pakyta', 'about', 'ghuwa', 'huththige', 'yen', 'chatar', 'joint', 'lnka', 'asWe', 'Mokekda', 'pasda', 'oya', 'ranilage', 'rekkut', 'dakka', 'neweida', 'unt', 'Amoooo', 'mole', 'knata', 'samajayak', 'ig', 'katta', 'aththe', 'pk', 'lajjawe', 'Niyama', 'kunuhrp', 'of', 'uba', 'ohom', 'tharam', 'kamak', 'nila', 'kanne', 'nmbr', 'nambar', 'Podi', 'Aluthin', 'hukannak', 'ekai', 'Mun', 'awulk', 'sagor', 'pirimikama', 'Sirwata', 'krganna', 'Srilankan', 'hukannala', 'M', 'wanneyen', 'gothayyha', 'oluwa', 'pakyla', 'paraya', 'that', 'capacity', 'ganna', 'higanno', 'Anitt', 'po', 'hitilia', 'modayonta', 'yana', 'bllooo', 'hithune', 'Chttak', 'Mehema', 'parak', 'sirawata', 'Y', 'puthala', 'Ko', 'ekkwth', 'can', 'atta', 'pisso', 'thiyanne', 'Okata', 'loku', 'Legend', 'Okunge', 'giniyanna', 'Gotha', 'kela', 'vehicles', 'wedi', 'nawagannna', 'htta', 'mamanam', 'reccudekne', 'mala', 'balle', 'illanna', 'Panigale', 'newei', 'gaththa', 'Ata', 'pennuwe', 'love', 'mattegoda', 'kapiya', 'thaththa', 'Pennannama', 'wedak', 'ussanna', 'yako', 'hithanne', 'dakinkotat', 'nohkt', 'thawa', 'pakepolice', 'sakkily', 'What', 'athule', 'Mu', 'registered', 'polissiya', 'Adala', 'ganing', 'bg', 'police', 'happan', 'aiiye', 'tiyane', 'malli', 'anne', 'polsye', 'pataw', 'kiyana', 'Maru', 'kuyla', 'karanna', 'munta', 'patta', 'pagayo', 'books', 'aluthen', 'daws', 'polliciya', 'makabawenna', 'hithumathe', 'kohedooo', 'anunta', 'thibun', 'edala', 'komada', 'on', 'hukana', 'officer', 'text', 'ekani', 'show', 'lefat', 'ekat', 'fuck', 'asaawata', 'nan', 'bllo', 'needa', 'last', 'hitil', 'lata', 'weyan', 'athta', 'geniyanne', 'hambechcha', 'aththa', 'tutti', 'wade', 'Left', 'pakkek', 'Ugenm', 'eyage', 'toku', 'hdnne', 'Mathugamada', 'kadu', 'kurunegala', 'Melo', 'thiyenne', 'kollk', 'merila', 'rawulawath', 'wadatirisan', 'hutta', 'pandithayek', 'bikke', 'kiuwanm', 'dheela', 'zerochilz', 'katava', 'gothayooo', 'pissa', 'sakiliya', 'nathuva', 'raganne', 'thyenne', 'kariayata', 'kawda', 'dila', 'badichha', 'ponnayek', 'hththige', 'oneh', 'thaththath', 'gery', 'laicen', 'CID', 'pa', 'amaru', 'Dn', 'ballpanko', 'karayata', 'pare', 'balu', 'So', 'kamathi', 'Moda', 'unath', 'huththoo', 'baka', 'dadagahanawa', 'Balata', 'mekayi', 'dennageth', 'gathama', 'kiyannawath', 'Rassawal', 'vatayakpadinna', 'udu', 'mekhnm', 'danna', 'lankawe', 'onii', 'Kollek', 'kossage', 'walipenna', 'ewuninnawa', 'ghnna', 'thiyagena', 'dipao', 'Kapila', 'have', 'bahala', 'kawapiya', 'lajjawak', 'nee', 'wonder', 'Super', 'pgyt', 'pagayek', 'passe', 'patiyek', 'Gobbayo', 'vitharayi', 'pisdu', 'Asawane', 'ayath', 'kollonge', 'boruwt', 'miniha', 'nuulawa', 'duwala', 'keriya', 'asa', 'unth', 'byke', 'hukawapn', 'peralena', 'okta', 'bj', 'ekta', 'labana', 'hitenawa', 'pkyw', 'Ammo', 'Ako', 'heking', 'harak', 'hodkin', 'uge', 'Jealousy', 'ri', 'wadiwenna', 'bayka', 'comments', 'allagnna', 'tharan', 'pakayadda', 'aeka', 'rights', 'danagena', 'ema', 'kelinava', 'hu', 'innava', 'iwsraine', 'pasu', 'adumak', 'kn', 'udanne', 'res', 'lagadi', 'eliyt', 'gahpankoo', 'koheda', 'haha', 'balanda', 'weda', 'pakalayata', 'pakata', 'yanakam', 'kuhakyooo', 'adumagane', 'Api', 'nhnee', 'asarana', 'sapathu', 'muusalaya', 'kraya', 'penn', 'kathayihode', 'pamke', 'bike', 'kollone', 'hikawannawone', 'hutte', 'dekayyek', 'gahaoankoo', 'puththalame', 'ohomai', 'neme', 'polisiy', 'kma', 'Ohoma', 'Geri', 'kanni', 'sevalayekne', 'munam', 'ituru', 'gawa', 'deepan', 'Ubata', 'nthi', 'hida', 'akan', 'denne', 'respected', 'gahnnepai', 'gannawa', 'ride', 'aiyeee', 'pc', 'duwanakam', 'galawenna', 'muttiya', 'raganawa', 'wenne', 'badge', 'gatthe', 'gahapiy', 'Denn', 'hadanne', 'akka', 'modaya', 'pussek', 'kanan', 'karyo', 'oke', 'gaththahama', 'sar', 'krpn', 'bipan', 'pke', 'alutn', 'gotha', 'puduma', 'kamriyo', 'START', 'aawa', 'welawka', 'khmth', 'vade', 'ykoo', 'welath', 'karalama', 'arthal', 'wala', 'amta', 'Kuhaka', 'amaruwa', 'nodakin', 'Ownta', 'thaniyam', 'thiyanava', 'irisiyakara', 'Kakisatte', 'rata', 'pkyt', 'Ah', 'ykow', 'superb', 'poles', 'pakayata', 'action', 'marapiya', 'unregistered', 'Eyatath', 'aasaawata', 'melawa', 'Huttho', 'cry', 'gothayata', 'huuuu', 'kalakaniya', 'ewilla', 'padinn', 'akak', 'hithan', 'neethiyak', 'pamkaya', 'magadi', 'hallo', 'bassne', 'mokada', 'gobbayo', 'hdnawa', 'ohomama', 'Gahapiya', 'kemathi', 'nethi', 'kondakak', 'kelinne', 'depan', 'gannada', 'kamatath', 'Ponnayata', 'eki', 'samakalinaya', 'tikath', 'Hina', 'athulata', 'mode', 'boru', 'nawaththa', 'Okunta', 'halo', 'pakeyata', 'kunu', 'panne', 'policekarayo', 'manika', 'wahalkama', 'waren', 'akurk', 'supiri', 'makabevilama', 'thanakata', 'besikayat', 'policeyat', 'aduranna', 'tikak', 'balen', 'ekama', 'round', 'welth', 'palla', 'Vena', 'cri', 'mae', 'hmm', 'balugathiya', 'Asawen', 'mokda', 'konda', 'denawane', 'huthto', 'yata', 'haka', 'leda', 'oni', 'dakina', 'uta', 'nattan', 'ballak', 'kiywana', 'Yathura', 'alapan', 'nidhse', 'pundaikal', 'aruge', 'hithilad', 'Cari', 'ballt', 'kolleni', 'the', 'et', 'lagath', 'uttata', 'athmewath', 'pow', 'Gapanko', 'unanam', 'kollange', 'Ghapn', 'yanda', 'gn', 'dipn', 'tibba', 'ewith', 'eyaath', 'banna', 'Ado', 'ykej', 'cari', 'dapanko', 'musalaya', 'me', 'idiyanm', 'wuta', 'freely', 'duwanna', 'modayek', 'ashawtta', 'para', 'Haha', 'Niyamai', 'pkyl', 'ganiko', 'ghnne', 'ttek', 'Part', 'pan', 'Hora', 'appayak', 'kaya', 'aththadanguwata', 'unoth', 'yaka', 'kananna', 'niyamaiii', 'allanta', 'huu', 'Aiiyo', 'thaniyen', 'rules', 'lamai', 'kani', 'unda', 'krganin', 'mamata', 'pattan', 'karapu', 'ynne', 'minissu', 'out', 'okawa', 'kora', 'bassanna', 'hithada', 'Ehmd', 'welak', 'wsk', 'Basith', 'arayata', 'beeshane', 'Enna', 'eyataaaa', 'hema', 'B', 'niyamayi', 'sagi', 'gal', 'yat', 'machangg', 'kranakotath', 'gemmak', 'putha', 'gona', 'afterwards', 'plan', 'ekkh', 'kathakeranda', 'Balu', 'Dushan', 'gan', 'epai', 'SP', 'hukanno', 'Have', 'kiyala', 'kuhakayek', 'bassala', 'ohm', 'adumata', 'shik', 'wahe', 'ugannala', 'nemei', 'ponny', 'kalakanniya', 'uu', 'etakichchek', 'Mooda', 'Aiye', 'diuti', 'Ponnayek', 'keriyataa', 'uth', 'enna', 'oluva', 'karumeta', 'therumak', 'tile', 'pasae', 'hadana', 'tirisan', 'allanawa', 'niyami', 'kyna', 'samaharak', 'gahpan', 'gaththada', 'L', 'polichiya', 'innwa', 'alan', 'balla', 'montha', 'dakkoth', 'hukopiya', 'bam', 'henagahanna', 'guuuu', 'dei', 'hithenawa', 'utath', 'Adapan', 'keriyek', 'qwanam', 'naha', 'unuth', 'aran', 'dawasakata', 'ghnda', 'mongalda', 'ganan', 'iya', 'Pizzsa', 'ubata', 'ujja', 'poannea', 'mokawath', 'wediya', 'hihin', 'anunt', 'danko', 'uniform', 'pake', 'berenna', 'unama', 'paduwe', 'gihin', 'moktad', 'peretha', 'best', 'line', 'pauuuu', 'varaddakata', 'sansidawanna', 'huttek', 'bassawala', 'UBA', 'Okada', 'ounta', 'kisima', 'ayi', 'revenge', 'Awajathaka', 'kalaknniyo', 'evil', 'eh', 'huknnek', 'sadaranawa', 'k', 'Pal', 'kamaka', 'perhe', 'Eww', 'adu', 'sarawadi', 'nathiwa', 'boruvata', 'balndko', 'deke', 'kanniyek', 'bahubootha', 'pakayage', 'pakyata', 'hambunada', 'okah', 'Uge', 'karaya', 'halenna', 'paninna', 'namena', 'kalla', 'athata', 'katharagama', 'plss', 'ada', 'samahara', 'policeye', 'Koheda', 'poilce', 'awath', 'Dura', 'raumak', 'gapayaa', 'kunuharup', 'tiper', 'pathale', 'lokkge', 'ein', 'liynnt', 'kalama', 'pakkkunbn', 'atha', 'b', 'dont', 'ramakrishna', 'U', 'owage', 'Gootha', 'pissumeyahorekvennathihorapolic', 'social', 'daapan', 'Kauda', 'tama', 'kalin', 'g', 'hotiyane', 'ekek', 'kaw', 'set', 'pedagena', 'mewt', 'polish', 'panna', 'fellow', 'gahano', 'hulagak', 'baecikalan', 'arn', 'mut', 'ceri', 'kariyage', 'trapic', 'ahinsaka', 'aiyo', 'ewa', 'ethurutikath', 'Aluten', 'ek', 'yalu', 'aninna', 'mama', 'ponnyekda', 'much', 'ahsawta', 'look', 'p', 'keriyeak', 'welawata', 'Baykkekata', 'eva', 'kama', 'batch', 'hoda', 'thai', 'is', 'policiyta', 'marapan', 'Hu', 'aasai', 'ahemai', 'polise', 'karan', 'ekam', 'danuman', 'kiyalath', 'wahanai', 'Ame', 'mkk', 'ekakpadinn', 'aiyooo', 'Eka', 'balnne', 'ekakma', 'pkk', 'ramumak', 'ratta', 'baa', 'moova', 'seen', 'ghanda', 'modai', 'koo', 'innawa', 'gahapiyaa', 'srilankapolice', 'okak', 'karannaona', 'Sakkili', 'iddi', 'FAIZ', 'mechchra', 'this', 'gihma', 'adala', 'man', 'rs', 'policeeee', 'won', 'Good', 'brother', 'policeyada', 'asathi', 'baikken', 'okunva', 'antry', 'rewila', 'insta', 'irisiyawa', 'o', 'okune', 'oyawaga', 'Gambattek', 'They', 'ekekd', 'aasahithila', 'mokakd', 'mona', 'Wesa', 'tham', 'bijjek', 'aasa', 'idala', 'polisc', 'palenn', 'Gahana', 'are', 'gothayakne', 'psse', 'ahma', 'Huja', 'ponnayo', 'unohommamai', 'asawe', 'pode', 'gnnwa', 'kollekda', 'harakek', 'asai', 'hakka', 'hetta', 'putalla', 'aranyanne', 'kelk', 'wahana', 'chuti', 'happened', 'jiwitheta', 'sho', 'kariyt', 'hithn', 'd', 'epe', 'giyapuden', 'irisiyaawa', 'uuta', 'Nodakin', 'wag', 'panigl', 'loweth', 'pamkek', 'echcho', 'Gothayek', 'padhinda', 'elm', 'ponnya', 'agata', 'District', 'busted', 'eytnamm', 'pandita', 'gassla', 'Ducati', 'ani', 'ara', 'hand', 'mokkuda']\n"
     ]
    }
   ],
   "source": [
    "import pandas as pd\n",
    "import re\n",
    "\n",
    "# Load the Sinhala comments DataFrame from the CSV file\n",
    "loaded_sinhala_comments_df = pd.read_csv('../../data/TKCOMMENT_7210499881536916737_3970_comments.csv')\n",
    "\n",
    "# Define a regular expression pattern to match English words\n",
    "english_word_pattern = re.compile(r'\\b[a-zA-Z]+\\b')\n",
    "\n",
    "# Function to extract English words from a comment\n",
    "def extract_english_words(comment):\n",
    "    english_words = re.findall(english_word_pattern, comment)\n",
    "    return english_words\n",
    "\n",
    "# Apply the function to the 'Comment' column\n",
    "loaded_sinhala_comments_df['English_Words'] = loaded_sinhala_comments_df['Comment'].apply(extract_english_words)\n",
    "\n",
    "# Flatten the list of English words\n",
    "english_word_list = [word for sublist in loaded_sinhala_comments_df['English_Words'] for word in sublist]\n",
    "\n",
    "# Remove duplicates\n",
    "english_word_list = list(set(english_word_list))\n",
    "\n",
    "# Display the list of English words\n",
    "print(english_word_list)"
   ]
  },
  {
   "cell_type": "code",
   "execution_count": 52,
   "metadata": {},
   "outputs": [
    {
     "name": "stdout",
     "output_type": "stream",
     "text": [
      "{'thama': 'තාම', 'moda': 'මොඩ', 'police': 'පොලිස්', 'gothyek': 'ගොතයෙක්', 'padi': 'පදි', 'me': 'මේ', 'issues': 'ගැටළු', 'nam': 'නම්', 'lei': 'ලෙස', 'badaginne': 'බදගින්නේ', 'hutta': 'හුට්ට', 'un': 'උන්', 'kawruth': 'කවුරුත්', 'ahuneme': 'අහුනෙමේ', 'Skill': 'ක්ෂකත්වය', 'Boy': 'බොයි', 'bari': 'බරි', 'bath': 'බත්', 'Save': 'සුරකින්න', 'pixel': 'පික්ශල්', 'display': 'ප්රදර්ශනය', 'Samsung': 'සැම්සන්ග්', 'Ruchira': 'රුචිර', 'Mata': 'මට', 'S': 'එස්', 'chaina': 'චීන', 'recommend': 'නිවැරදි කරනවා', 'ehat': 'එහාට', 'ai': 'ඒයි', 'Apple': 'ඇපල්', 'ipone': 'යයිපෝන්', 'Chamod': 'චාමොඩ්', 'nama': 'නම', 'samsung': 'සැම්සන්ග්', 'A': 'ඒ', 'ma': 'ම', 'katat': 'කටට්', 'siravatama': 'සිරවටම', 'k': 'ක්', 'line': 'විස්වාසී', 'Technical': 'තාක්ෂණවාදය', 'Sagara': 'සාගර', 'eka': 'එක', 'kiyanna': 'කියන්න', 'iphone': 'අයිෆෝන්', 'enne': 'එන්නේ', 'England': 'එංගලන්තය', 'tv': 'ටීවී', 's': 'සී', 'flagship': 'ප්ලැග්ෂිප්', 'karana': 'කරනවා', 'wenas': 'වෙනස්', 'green': 'කොළ', 'ganan': 'ගනන්', 'High': 'හයි', 'wadak': 'වඩක්', 'Update': 'යාවත්කාලී', 'Samsumg': 'සැම්සන්ග්', 'use': 'භාවිතා', 'apple': 'ඇපල්', 'serios': 'සීරියස්', 'ane': 'ඇනේ', 'screen': 'ස්ක්\\u200dරීන්', 'Dilshan': 'දිල්ශන්', 'poddk': 'පොඩ්ක්', 'hil': 'හිල්', 'Baik': 'බයික්', 'phone': 'දුරකථනය', 'Madushan': 'මධූෂන්', 'eke': 'එකේ', 'series': 'සීරීස්', 'L': 'එල්', 'photo': 'ඡායාරූප', 'na': 'නෑ', 'weda': 'වෙඩ', 'kiyala': 'කියලා', 'hodai': 'හොඳයි', 'speed': 'වේගය', 'ge': 'ගේ', 'ledak': 'ලේඛ', 'wada': 'වාඩ', 'Review': 'අදහස්', 'ganak': 'ගනක්', 'dan': 'දන්', 'ban': 'බන්', 'Nirosh': 'නිරෝෂ්'}\n"
     ]
    }
   ],
   "source": [
    "translation_dict = {\n",
    "    'thama': 'තාම',\n",
    "    'moda' : 'මොඩ',\n",
    "    'police' : 'පොලිස්',\n",
    "    'gothyek' : 'ගොතයෙක්',\n",
    "    'padi': 'පදි',\n",
    "    'me': 'මේ',\n",
    "    'issues': 'ගැටළු',\n",
    "    'nam': 'නම්',\n",
    "    'lei': 'ලෙස',\n",
    "    'badaginne': 'බදගින්නේ',\n",
    "    'hutta': 'හුට්ට',\n",
    "    'un': 'උන්',\n",
    "    'kawruth': 'කවුරුත්',\n",
    "    'ahuneme': 'අහුනෙමේ',\n",
    "    'Skill': 'ක්ෂකත්වය',\n",
    "    'Boy': 'බොයි',\n",
    "    'bari': 'බරි',\n",
    "    'bath': 'බත්',\n",
    "    'Save': 'සුරකින්න',\n",
    "    'pixel': 'පික්ශල්',\n",
    "    'display': 'ප්රදර්ශනය',\n",
    "    'Samsung': 'සැම්සන්ග්',\n",
    "    'Ruchira': 'රුචිර',\n",
    "    'Mata': 'මට',\n",
    "    'S': 'එස්',\n",
    "    'chaina': 'චීන',\n",
    "    'recommend': 'නිවැරදි කරනවා',\n",
    "    'ehat': 'එහාට',\n",
    "    'ai': 'ඒයි',\n",
    "    'Apple': 'ඇපල්',\n",
    "    'ipone': 'යයිපෝන්',\n",
    "    'Chamod': 'චාමොඩ්',\n",
    "    'nama': 'නම',\n",
    "    'samsung': 'සැම්සන්ග්',\n",
    "    'A': 'ඒ',\n",
    "    'ma': 'ම',\n",
    "    'katat': 'කටට්',\n",
    "    'siravatama': 'සිරවටම',\n",
    "    'k': 'ක්',\n",
    "    'line': 'විස්වාසී',\n",
    "    'Technical': 'තාක්ෂණවාදය',\n",
    "    'Sagara': 'සාගර',\n",
    "    'eka': 'එක',\n",
    "    'kiyanna': 'කියන්න',\n",
    "    'iphone': 'අයිෆෝන්',\n",
    "    'enne': 'එන්නේ',\n",
    "    'England': 'එංගලන්තය',\n",
    "    'tv': 'ටීවී',\n",
    "    's': 'සී',\n",
    "    'flagship': 'ප්ලැග්ෂිප්',\n",
    "    'karana': 'කරනවා',\n",
    "    'wenas': 'වෙනස්',\n",
    "    'green': 'කොළ',\n",
    "    'ganan': 'ගනන්',\n",
    "    'High': 'හයි',\n",
    "    'wadak': 'වඩක්',\n",
    "    'Update': 'යාවත්කාලී',\n",
    "    'Samsumg': 'සැම්සන්ග්',\n",
    "    'use': 'භාවිතා',\n",
    "    'apple': 'ඇපල්',\n",
    "    'serios': 'සීරියස්',\n",
    "    'ane': 'ඇනේ',\n",
    "    'screen': 'ස්ක්‍රීන්',\n",
    "    'Dilshan': 'දිල්ශන්',\n",
    "    'poddk': 'පොඩ්ක්',\n",
    "    'hil': 'හිල්',\n",
    "    'Baik':'බයික්',\n",
    "    'phone': 'දුරකථනය',\n",
    "    'Madushan': 'මධූෂන්',\n",
    "    'eke': 'එකේ',\n",
    "    'series': 'සීරීස්',\n",
    "    'L': 'එල්',\n",
    "    'photo': 'ඡායාරූප',\n",
    "    'na': 'නෑ',\n",
    "    'weda': 'වෙඩ',\n",
    "    'kiyala': 'කියලා',\n",
    "    'hodai': 'හොඳයි',\n",
    "    'speed': 'වේගය',\n",
    "    'ge': 'ගේ',\n",
    "    'ledak': 'ලේඛ',\n",
    "     'wada': 'වාඩ',\n",
    "    'Review': 'අදහස්',\n",
    "    'ganak': 'ගනක්',\n",
    "    'dan': 'දන්',\n",
    "    'ban' : 'බන්',\n",
    "    'Nirosh': 'නිරෝෂ්',\n",
    "}\n",
    "\n",
    "print(translation_dict)\n"
   ]
  },
  {
   "cell_type": "code",
   "execution_count": 53,
   "metadata": {},
   "outputs": [
    {
     "name": "stdout",
     "output_type": "stream",
     "text": [
      "                                                Comment Language\n",
      "0                                         2000 එකෙක්ද 😂       si\n",
      "1                                   මොඩ පොලිස් gothyek😂       en\n",
      "2                                         හොද වැඩේ..😂😂😂       si\n",
      "3                            කොල්ලට bike එකට ආස හිතිල😅😅       si\n",
      "4                                              ගහපිය 😂💔       si\n",
      "...                                                 ...      ...\n",
      "3965                                                  😂      NaN\n",
      "3966  සිරවටම බන් apitath පොලිස් ponnayo nadu danna t...       en\n",
      "3967  කොල්ලන්ගේ හීන වලට ඇවිල්ලා අම්මට හැමිනෙන හුන් ත...       si\n",
      "3968    oya wage balu වාඩ karama minissu iwasanne නෑ ne       ja\n",
      "3969                            සයිලාන්සරේට දිව දාපන් 😋       si\n",
      "\n",
      "[3970 rows x 2 columns]\n"
     ]
    }
   ],
   "source": [
    "# Replace English words with their Sinhala translations in the 'Comment' column\n",
    "def replace_english_with_sinhala(comment):\n",
    "    words = comment.split()\n",
    "    translated_words = [translation_dict.get(word, word) for word in words]\n",
    "    return ' '.join(translated_words)\n",
    "\n",
    "# Apply the replacement function to the 'Comment' column\n",
    "loaded_sinhala_comments_df['Comment'] = loaded_sinhala_comments_df['Comment'].apply(replace_english_with_sinhala)\n",
    "\n",
    "# Display the DataFrame with replaced comments\n",
    "print(loaded_sinhala_comments_df[['Comment', 'Language']])"
   ]
  },
  {
   "cell_type": "code",
   "execution_count": 54,
   "metadata": {},
   "outputs": [],
   "source": [
    "# Save the DataFrame with replaced comments to a CSV file\n",
    "loaded_sinhala_comments_df.to_csv('../../data/replaced_english_to_sinhala.csv', index=False)"
   ]
  }
 ],
 "metadata": {
  "kernelspec": {
   "display_name": "Python 3",
   "language": "python",
   "name": "python3"
  },
  "language_info": {
   "codemirror_mode": {
    "name": "ipython",
    "version": 3
   },
   "file_extension": ".py",
   "mimetype": "text/x-python",
   "name": "python",
   "nbconvert_exporter": "python",
   "pygments_lexer": "ipython3",
   "version": "3.12.0"
  }
 },
 "nbformat": 4,
 "nbformat_minor": 2
}
